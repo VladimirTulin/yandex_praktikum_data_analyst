{
 "cells": [
  {
   "cell_type": "markdown",
   "metadata": {},
   "source": [
    "### Материалы:"
   ]
  },
  {
   "cell_type": "markdown",
   "metadata": {},
   "source": [
    "[Ссылка на дашборд](https://public.tableau.com/profile/vladimir7867#!/vizhome/13657/sheet2)\n",
    "\n",
    "[Ссылка на презентацию](https://docs.google.com/presentation/d/1ueMregREa2Kjq8J4y1TuUZ6_9dXV6SL8gLzuDp2ADJ4/edit?usp=sharing)\n",
    "\n",
    "\n",
    "\n"
   ]
  },
  {
   "cell_type": "markdown",
   "metadata": {},
   "source": [
    "## Анализ оттока клиентов"
   ]
  },
  {
   "cell_type": "markdown",
   "metadata": {},
   "source": [
    "#### Задача:\n",
    "\n",
    "Для менеджера по продукту необходимо проанализировать клиентов регионального банка и выделить портрет клиентов, которые склонны уходить из банка.\n",
    "\n",
    "- Провести исследовательский анализ данных,\n",
    "- Выделите портреты клиентов, которые склонны уходить из банка,\n",
    "- Проверить статистические гипотезы."
   ]
  },
  {
   "cell_type": "markdown",
   "metadata": {},
   "source": [
    "### Оглавление\n",
    "1. #### <a href='#ch1'>Загрузка, первичный осмотр и предобработка данных</a>\n",
    " - <a href='#ch1_2'>изучение пропусков</a>\n",
    " - <a href='#ch1_3'>приведение типов данных</a>\n",
    " - <a href='#ch1_4'>поиск дубликатов</a>\n",
    " - <a href='#ch1_1'>вывод</a>\n",
    "2. #### <a href='#ch2'>Исследовательский анализ данных</a>\n",
    " - <a href='#ch2_1'>меры центральной тенденции</a>\n",
    " - <a href='#ch2_2'>распределения признаков</a>\n",
    " - <a href='#ch2_3'>корреляционный анализ</a>\n",
    " - <a href='#ch2_4'>вывод</a>\n",
    "3. #### <a href='#ch3'>Описание портрета клиента склонного уходить</a>\n",
    " - <a href='#ch3_1'>портрет клиента склонного к оттоку</a>\n",
    "4. #### <a href='#ch4'>Проверка статистических гипотез</a>\n",
    " - <a href='#ch4_1'>гипотеза о различиях дохода между теми клиентами, которые ушли (отток) и теми, которые остались</a>\n",
    " - <a href='#ch4_2'>гипотеза о различиях количества используемых продуктов между теми клиентами, которые ушли (отток) и теми, которые остались</a>\n",
    "5. #### <a href='#ch5'>Вывод по проекту</a>"
   ]
  },
  {
   "cell_type": "markdown",
   "metadata": {},
   "source": [
    "#### Описание данных\n",
    "- `userid` — идентификатор пользователя,\n",
    "- `score` — баллы кредитного скоринга,\n",
    "- `City` — город,\n",
    "- `Gender` — пол,\n",
    "- `Age` — возраст,\n",
    "- `Objects` — количество объектов в собственности,\n",
    "- `Balance` — баланс на счёте,\n",
    "- `Products` — количество продуктов, которыми пользуется клиент,\n",
    "- `CreditCard` — есть ли кредитная карта,\n",
    "- `Loyalty` — активный клиент,\n",
    "- `estimated_salary` — заработная плата клиента,\n",
    "- `Churn` — ушёл или нет."
   ]
  },
  {
   "cell_type": "markdown",
   "metadata": {},
   "source": [
    "______"
   ]
  },
  {
   "cell_type": "markdown",
   "metadata": {},
   "source": [
    "#### <a id='ch1'>Загрузка, первичный осмотр и предобработка данных</a>"
   ]
  },
  {
   "cell_type": "code",
   "execution_count": 2,
   "metadata": {},
   "outputs": [],
   "source": [
    "import pandas as pd\n",
    "import numpy as np\n",
    "import matplotlib.pyplot as plt\n",
    "import seaborn as sns\n",
    "from sklearn.preprocessing import LabelEncoder\n",
    "from scipy import stats as st"
   ]
  },
  {
   "cell_type": "markdown",
   "metadata": {},
   "source": [
    "____"
   ]
  },
  {
   "cell_type": "code",
   "execution_count": 3,
   "metadata": {},
   "outputs": [],
   "source": [
    "bank = pd.read_csv('/datasets/bank_dataset.csv')"
   ]
  },
  {
   "cell_type": "code",
   "execution_count": 4,
   "metadata": {},
   "outputs": [
    {
     "data": {
      "text/html": [
       "<div>\n",
       "<style scoped>\n",
       "    .dataframe tbody tr th:only-of-type {\n",
       "        vertical-align: middle;\n",
       "    }\n",
       "\n",
       "    .dataframe tbody tr th {\n",
       "        vertical-align: top;\n",
       "    }\n",
       "\n",
       "    .dataframe thead th {\n",
       "        text-align: right;\n",
       "    }\n",
       "</style>\n",
       "<table border=\"1\" class=\"dataframe\">\n",
       "  <thead>\n",
       "    <tr style=\"text-align: right;\">\n",
       "      <th></th>\n",
       "      <th>userid</th>\n",
       "      <th>score</th>\n",
       "      <th>City</th>\n",
       "      <th>Gender</th>\n",
       "      <th>Age</th>\n",
       "      <th>Objects</th>\n",
       "      <th>Balance</th>\n",
       "      <th>Products</th>\n",
       "      <th>CreditCard</th>\n",
       "      <th>Loyalty</th>\n",
       "      <th>estimated_salary</th>\n",
       "      <th>Churn</th>\n",
       "    </tr>\n",
       "  </thead>\n",
       "  <tbody>\n",
       "    <tr>\n",
       "      <td>0</td>\n",
       "      <td>15677338</td>\n",
       "      <td>619</td>\n",
       "      <td>Ярославль</td>\n",
       "      <td>Ж</td>\n",
       "      <td>42</td>\n",
       "      <td>2</td>\n",
       "      <td>NaN</td>\n",
       "      <td>1</td>\n",
       "      <td>1</td>\n",
       "      <td>1</td>\n",
       "      <td>101348.88</td>\n",
       "      <td>1</td>\n",
       "    </tr>\n",
       "    <tr>\n",
       "      <td>1</td>\n",
       "      <td>15690047</td>\n",
       "      <td>608</td>\n",
       "      <td>Рыбинск</td>\n",
       "      <td>Ж</td>\n",
       "      <td>41</td>\n",
       "      <td>1</td>\n",
       "      <td>83807.86</td>\n",
       "      <td>1</td>\n",
       "      <td>0</td>\n",
       "      <td>1</td>\n",
       "      <td>112542.58</td>\n",
       "      <td>0</td>\n",
       "    </tr>\n",
       "    <tr>\n",
       "      <td>2</td>\n",
       "      <td>15662040</td>\n",
       "      <td>502</td>\n",
       "      <td>Ярославль</td>\n",
       "      <td>Ж</td>\n",
       "      <td>42</td>\n",
       "      <td>8</td>\n",
       "      <td>159660.80</td>\n",
       "      <td>3</td>\n",
       "      <td>1</td>\n",
       "      <td>0</td>\n",
       "      <td>113931.57</td>\n",
       "      <td>1</td>\n",
       "    </tr>\n",
       "    <tr>\n",
       "      <td>3</td>\n",
       "      <td>15744090</td>\n",
       "      <td>699</td>\n",
       "      <td>Ярославль</td>\n",
       "      <td>Ж</td>\n",
       "      <td>39</td>\n",
       "      <td>1</td>\n",
       "      <td>NaN</td>\n",
       "      <td>2</td>\n",
       "      <td>0</td>\n",
       "      <td>0</td>\n",
       "      <td>93826.63</td>\n",
       "      <td>0</td>\n",
       "    </tr>\n",
       "    <tr>\n",
       "      <td>4</td>\n",
       "      <td>15780624</td>\n",
       "      <td>850</td>\n",
       "      <td>Рыбинск</td>\n",
       "      <td>Ж</td>\n",
       "      <td>43</td>\n",
       "      <td>2</td>\n",
       "      <td>125510.82</td>\n",
       "      <td>1</td>\n",
       "      <td>1</td>\n",
       "      <td>1</td>\n",
       "      <td>79084.10</td>\n",
       "      <td>0</td>\n",
       "    </tr>\n",
       "  </tbody>\n",
       "</table>\n",
       "</div>"
      ],
      "text/plain": [
       "     userid  score       City Gender  Age  Objects    Balance  Products  \\\n",
       "0  15677338    619  Ярославль      Ж   42        2        NaN         1   \n",
       "1  15690047    608    Рыбинск      Ж   41        1   83807.86         1   \n",
       "2  15662040    502  Ярославль      Ж   42        8  159660.80         3   \n",
       "3  15744090    699  Ярославль      Ж   39        1        NaN         2   \n",
       "4  15780624    850    Рыбинск      Ж   43        2  125510.82         1   \n",
       "\n",
       "   CreditCard  Loyalty  estimated_salary  Churn  \n",
       "0           1        1         101348.88      1  \n",
       "1           0        1         112542.58      0  \n",
       "2           1        0         113931.57      1  \n",
       "3           0        0          93826.63      0  \n",
       "4           1        1          79084.10      0  "
      ]
     },
     "execution_count": 4,
     "metadata": {},
     "output_type": "execute_result"
    }
   ],
   "source": [
    "bank.head()"
   ]
  },
  {
   "cell_type": "code",
   "execution_count": 5,
   "metadata": {},
   "outputs": [],
   "source": [
    "#Для удобства приведу заголоки колонок к нижнему регистру\n",
    "bank.columns = bank.columns.str.lower()"
   ]
  },
  {
   "cell_type": "markdown",
   "metadata": {},
   "source": [
    "##### <a id='ch1_2'>Изучение пропусков</a>"
   ]
  },
  {
   "cell_type": "code",
   "execution_count": 6,
   "metadata": {},
   "outputs": [
    {
     "name": "stdout",
     "output_type": "stream",
     "text": [
      "<class 'pandas.core.frame.DataFrame'>\n",
      "RangeIndex: 10000 entries, 0 to 9999\n",
      "Data columns (total 12 columns):\n",
      "userid              10000 non-null int64\n",
      "score               10000 non-null int64\n",
      "city                10000 non-null object\n",
      "gender              10000 non-null object\n",
      "age                 10000 non-null int64\n",
      "objects             10000 non-null int64\n",
      "balance             6383 non-null float64\n",
      "products            10000 non-null int64\n",
      "creditcard          10000 non-null int64\n",
      "loyalty             10000 non-null int64\n",
      "estimated_salary    10000 non-null float64\n",
      "churn               10000 non-null int64\n",
      "dtypes: float64(2), int64(8), object(2)\n",
      "memory usage: 937.6+ KB\n"
     ]
    }
   ],
   "source": [
    "bank.info()"
   ]
  },
  {
   "cell_type": "markdown",
   "metadata": {},
   "source": [
    "Таблица bank состоит из 12 колонок и 10000 записей. Колонки имеют разные типы данных, так же колонка balance имеет пропуски, возможно, это связано с отсутствующими открытыми счетами у этих клиентов."
   ]
  },
  {
   "cell_type": "code",
   "execution_count": 7,
   "metadata": {},
   "outputs": [
    {
     "data": {
      "text/html": [
       "<div>\n",
       "<style scoped>\n",
       "    .dataframe tbody tr th:only-of-type {\n",
       "        vertical-align: middle;\n",
       "    }\n",
       "\n",
       "    .dataframe tbody tr th {\n",
       "        vertical-align: top;\n",
       "    }\n",
       "\n",
       "    .dataframe thead th {\n",
       "        text-align: right;\n",
       "    }\n",
       "</style>\n",
       "<table border=\"1\" class=\"dataframe\">\n",
       "  <thead>\n",
       "    <tr style=\"text-align: right;\">\n",
       "      <th></th>\n",
       "      <th>userid</th>\n",
       "      <th>score</th>\n",
       "      <th>city</th>\n",
       "      <th>gender</th>\n",
       "      <th>age</th>\n",
       "      <th>objects</th>\n",
       "      <th>balance</th>\n",
       "      <th>products</th>\n",
       "      <th>creditcard</th>\n",
       "      <th>loyalty</th>\n",
       "      <th>estimated_salary</th>\n",
       "      <th>churn</th>\n",
       "    </tr>\n",
       "  </thead>\n",
       "  <tbody>\n",
       "    <tr>\n",
       "      <td>0</td>\n",
       "      <td>15677338</td>\n",
       "      <td>619</td>\n",
       "      <td>Ярославль</td>\n",
       "      <td>Ж</td>\n",
       "      <td>42</td>\n",
       "      <td>2</td>\n",
       "      <td>NaN</td>\n",
       "      <td>1</td>\n",
       "      <td>1</td>\n",
       "      <td>1</td>\n",
       "      <td>101348.88</td>\n",
       "      <td>1</td>\n",
       "    </tr>\n",
       "    <tr>\n",
       "      <td>18</td>\n",
       "      <td>15704243</td>\n",
       "      <td>587</td>\n",
       "      <td>Рыбинск</td>\n",
       "      <td>М</td>\n",
       "      <td>45</td>\n",
       "      <td>6</td>\n",
       "      <td>NaN</td>\n",
       "      <td>1</td>\n",
       "      <td>0</td>\n",
       "      <td>0</td>\n",
       "      <td>158684.81</td>\n",
       "      <td>0</td>\n",
       "    </tr>\n",
       "    <tr>\n",
       "      <td>22</td>\n",
       "      <td>15742045</td>\n",
       "      <td>510</td>\n",
       "      <td>Рыбинск</td>\n",
       "      <td>Ж</td>\n",
       "      <td>38</td>\n",
       "      <td>4</td>\n",
       "      <td>NaN</td>\n",
       "      <td>1</td>\n",
       "      <td>1</td>\n",
       "      <td>0</td>\n",
       "      <td>118913.53</td>\n",
       "      <td>1</td>\n",
       "    </tr>\n",
       "    <tr>\n",
       "      <td>24</td>\n",
       "      <td>15667783</td>\n",
       "      <td>846</td>\n",
       "      <td>Ярославль</td>\n",
       "      <td>Ж</td>\n",
       "      <td>38</td>\n",
       "      <td>5</td>\n",
       "      <td>NaN</td>\n",
       "      <td>1</td>\n",
       "      <td>1</td>\n",
       "      <td>1</td>\n",
       "      <td>187616.16</td>\n",
       "      <td>0</td>\n",
       "    </tr>\n",
       "    <tr>\n",
       "      <td>38</td>\n",
       "      <td>15760162</td>\n",
       "      <td>850</td>\n",
       "      <td>Ярославль</td>\n",
       "      <td>М</td>\n",
       "      <td>36</td>\n",
       "      <td>7</td>\n",
       "      <td>NaN</td>\n",
       "      <td>1</td>\n",
       "      <td>1</td>\n",
       "      <td>1</td>\n",
       "      <td>40812.90</td>\n",
       "      <td>0</td>\n",
       "    </tr>\n",
       "    <tr>\n",
       "      <td>...</td>\n",
       "      <td>...</td>\n",
       "      <td>...</td>\n",
       "      <td>...</td>\n",
       "      <td>...</td>\n",
       "      <td>...</td>\n",
       "      <td>...</td>\n",
       "      <td>...</td>\n",
       "      <td>...</td>\n",
       "      <td>...</td>\n",
       "      <td>...</td>\n",
       "      <td>...</td>\n",
       "      <td>...</td>\n",
       "    </tr>\n",
       "    <tr>\n",
       "      <td>9962</td>\n",
       "      <td>15637348</td>\n",
       "      <td>702</td>\n",
       "      <td>Рыбинск</td>\n",
       "      <td>М</td>\n",
       "      <td>44</td>\n",
       "      <td>9</td>\n",
       "      <td>NaN</td>\n",
       "      <td>1</td>\n",
       "      <td>0</td>\n",
       "      <td>0</td>\n",
       "      <td>59207.41</td>\n",
       "      <td>1</td>\n",
       "    </tr>\n",
       "    <tr>\n",
       "      <td>9969</td>\n",
       "      <td>15849096</td>\n",
       "      <td>609</td>\n",
       "      <td>Ярославль</td>\n",
       "      <td>М</td>\n",
       "      <td>41</td>\n",
       "      <td>6</td>\n",
       "      <td>NaN</td>\n",
       "      <td>1</td>\n",
       "      <td>0</td>\n",
       "      <td>1</td>\n",
       "      <td>112585.19</td>\n",
       "      <td>0</td>\n",
       "    </tr>\n",
       "    <tr>\n",
       "      <td>9983</td>\n",
       "      <td>15699446</td>\n",
       "      <td>613</td>\n",
       "      <td>Ярославль</td>\n",
       "      <td>М</td>\n",
       "      <td>40</td>\n",
       "      <td>4</td>\n",
       "      <td>NaN</td>\n",
       "      <td>1</td>\n",
       "      <td>0</td>\n",
       "      <td>0</td>\n",
       "      <td>151325.24</td>\n",
       "      <td>0</td>\n",
       "    </tr>\n",
       "    <tr>\n",
       "      <td>9992</td>\n",
       "      <td>15699841</td>\n",
       "      <td>726</td>\n",
       "      <td>Рыбинск</td>\n",
       "      <td>М</td>\n",
       "      <td>36</td>\n",
       "      <td>2</td>\n",
       "      <td>NaN</td>\n",
       "      <td>1</td>\n",
       "      <td>1</td>\n",
       "      <td>0</td>\n",
       "      <td>195192.40</td>\n",
       "      <td>0</td>\n",
       "    </tr>\n",
       "    <tr>\n",
       "      <td>9997</td>\n",
       "      <td>15627268</td>\n",
       "      <td>709</td>\n",
       "      <td>Ярославль</td>\n",
       "      <td>Ж</td>\n",
       "      <td>36</td>\n",
       "      <td>7</td>\n",
       "      <td>NaN</td>\n",
       "      <td>1</td>\n",
       "      <td>0</td>\n",
       "      <td>1</td>\n",
       "      <td>42085.58</td>\n",
       "      <td>1</td>\n",
       "    </tr>\n",
       "  </tbody>\n",
       "</table>\n",
       "<p>905 rows × 12 columns</p>\n",
       "</div>"
      ],
      "text/plain": [
       "        userid  score       city gender  age  objects  balance  products  \\\n",
       "0     15677338    619  Ярославль      Ж   42        2      NaN         1   \n",
       "18    15704243    587    Рыбинск      М   45        6      NaN         1   \n",
       "22    15742045    510    Рыбинск      Ж   38        4      NaN         1   \n",
       "24    15667783    846  Ярославль      Ж   38        5      NaN         1   \n",
       "38    15760162    850  Ярославль      М   36        7      NaN         1   \n",
       "...        ...    ...        ...    ...  ...      ...      ...       ...   \n",
       "9962  15637348    702    Рыбинск      М   44        9      NaN         1   \n",
       "9969  15849096    609  Ярославль      М   41        6      NaN         1   \n",
       "9983  15699446    613  Ярославль      М   40        4      NaN         1   \n",
       "9992  15699841    726    Рыбинск      М   36        2      NaN         1   \n",
       "9997  15627268    709  Ярославль      Ж   36        7      NaN         1   \n",
       "\n",
       "      creditcard  loyalty  estimated_salary  churn  \n",
       "0              1        1         101348.88      1  \n",
       "18             0        0         158684.81      0  \n",
       "22             1        0         118913.53      1  \n",
       "24             1        1         187616.16      0  \n",
       "38             1        1          40812.90      0  \n",
       "...          ...      ...               ...    ...  \n",
       "9962           0        0          59207.41      1  \n",
       "9969           0        1         112585.19      0  \n",
       "9983           0        0         151325.24      0  \n",
       "9992           1        0         195192.40      0  \n",
       "9997           0        1          42085.58      1  \n",
       "\n",
       "[905 rows x 12 columns]"
      ]
     },
     "execution_count": 7,
     "metadata": {},
     "output_type": "execute_result"
    }
   ],
   "source": [
    "bank[(bank['products'] == 1 ) & (bank['balance'].isnull()) ]"
   ]
  },
  {
   "cell_type": "code",
   "execution_count": 8,
   "metadata": {},
   "outputs": [
    {
     "data": {
      "text/plain": [
       "4"
      ]
     },
     "execution_count": 8,
     "metadata": {},
     "output_type": "execute_result"
    }
   ],
   "source": [
    "bank['products'].max()"
   ]
  },
  {
   "cell_type": "code",
   "execution_count": 9,
   "metadata": {},
   "outputs": [
    {
     "data": {
      "text/plain": [
       "1"
      ]
     },
     "execution_count": 9,
     "metadata": {},
     "output_type": "execute_result"
    }
   ],
   "source": [
    "bank['products'].min()"
   ]
  },
  {
   "cell_type": "markdown",
   "metadata": {},
   "source": [
    "Сложно определить, является ли счет продуктом, так как мы не знаем сколько всего продуктов, а знаем лишь то, что некоторые максимально пользовались 4.  "
   ]
  },
  {
   "cell_type": "code",
   "execution_count": 10,
   "metadata": {},
   "outputs": [
    {
     "data": {
      "text/plain": [
       "3768.69"
      ]
     },
     "execution_count": 10,
     "metadata": {},
     "output_type": "execute_result"
    }
   ],
   "source": [
    "bank['balance'].min()"
   ]
  },
  {
   "cell_type": "markdown",
   "metadata": {},
   "source": [
    "Минимальная сумма на счете 3768,69, нулевых значений нет, как и близких к ним. Скорее всего пропуски в счете означают 0 баланс."
   ]
  },
  {
   "cell_type": "code",
   "execution_count": 11,
   "metadata": {},
   "outputs": [
    {
     "data": {
      "text/plain": [
       "0.25"
      ]
     },
     "execution_count": 11,
     "metadata": {},
     "output_type": "execute_result"
    }
   ],
   "source": [
    "#Доля пропусков в группе оттока\n",
    "round(bank[(bank['churn'] == 1)& (bank['balance'].isnull())]['userid'].count() / bank[bank['churn'] == 1]['userid'].count(),2)"
   ]
  },
  {
   "cell_type": "code",
   "execution_count": 12,
   "metadata": {},
   "outputs": [
    {
     "data": {
      "text/plain": [
       "0.39"
      ]
     },
     "execution_count": 12,
     "metadata": {},
     "output_type": "execute_result"
    }
   ],
   "source": [
    "#Доля пропусков в группе клиентов, которые остались с банком\n",
    "round(bank[(bank['churn'] == 0)& (bank['balance'].isnull())]['userid'].count() / bank[bank['churn'] == 0]['userid'].count(),2)"
   ]
  },
  {
   "cell_type": "markdown",
   "metadata": {},
   "source": [
    "В группе оттока 25% клиентов имеют пропуски в счете, а в группе, тех кто остались, таких прпусков 39%. "
   ]
  },
  {
   "cell_type": "markdown",
   "metadata": {},
   "source": [
    "Принято решение не заполнять пропуски нулем, даже если счет 0. Заполнение нулем повлияет на средние значения в группах, игнорируя их мы посчитаем только существующие суммы на счете клиентов."
   ]
  },
  {
   "cell_type": "markdown",
   "metadata": {},
   "source": [
    "##### <a id='ch1_3'>Приведение типов данных</a>"
   ]
  },
  {
   "cell_type": "code",
   "execution_count": 13,
   "metadata": {},
   "outputs": [],
   "source": [
    "#Преобразуем категориальные переменные в таблице гендер, где 0 - Ж , а 1 - М\n",
    "encoder =  LabelEncoder()\n",
    "bank['gender'] =  encoder.fit_transform(bank['gender'])"
   ]
  },
  {
   "cell_type": "markdown",
   "metadata": {},
   "source": [
    "Преобразовал категориальные переменные для удобства определения по половому признаку."
   ]
  },
  {
   "cell_type": "markdown",
   "metadata": {},
   "source": [
    "##### <a id='ch1_4'>Поиск дубликатов</a>"
   ]
  },
  {
   "cell_type": "code",
   "execution_count": 14,
   "metadata": {},
   "outputs": [
    {
     "data": {
      "text/plain": [
       "0"
      ]
     },
     "execution_count": 14,
     "metadata": {},
     "output_type": "execute_result"
    }
   ],
   "source": [
    "#Проверим на наличие дубликатов\n",
    "bank.duplicated().sum()"
   ]
  },
  {
   "cell_type": "markdown",
   "metadata": {},
   "source": [
    "Наши данные не имеют полных дубликатов"
   ]
  },
  {
   "cell_type": "markdown",
   "metadata": {},
   "source": [
    "##### <a id='ch1_1'>Вывод:</a>\n",
    "Данные загружены в переменную bank, таблица имеет размеры 10000 на 12, существующие пропуски принято оставить без изменения, не было обнаружено дубликатов, а так же, для удобства определения по половому признаку, были преобразованы категориальные данные в столбце gender"
   ]
  },
  {
   "cell_type": "markdown",
   "metadata": {},
   "source": [
    "_____"
   ]
  },
  {
   "cell_type": "markdown",
   "metadata": {},
   "source": [
    "#### <a id='ch2'>Исследовательский анализ данных</a>"
   ]
  },
  {
   "cell_type": "markdown",
   "metadata": {},
   "source": [
    "##### <a id='ch2_1'>Изучение мер центральной тенденции</a>"
   ]
  },
  {
   "cell_type": "code",
   "execution_count": 15,
   "metadata": {},
   "outputs": [
    {
     "data": {
      "text/html": [
       "<div>\n",
       "<style scoped>\n",
       "    .dataframe tbody tr th:only-of-type {\n",
       "        vertical-align: middle;\n",
       "    }\n",
       "\n",
       "    .dataframe tbody tr th {\n",
       "        vertical-align: top;\n",
       "    }\n",
       "\n",
       "    .dataframe thead th {\n",
       "        text-align: right;\n",
       "    }\n",
       "</style>\n",
       "<table border=\"1\" class=\"dataframe\">\n",
       "  <thead>\n",
       "    <tr style=\"text-align: right;\">\n",
       "      <th></th>\n",
       "      <th>score</th>\n",
       "      <th>gender</th>\n",
       "      <th>age</th>\n",
       "      <th>objects</th>\n",
       "      <th>balance</th>\n",
       "      <th>products</th>\n",
       "      <th>creditcard</th>\n",
       "      <th>loyalty</th>\n",
       "      <th>estimated_salary</th>\n",
       "      <th>churn</th>\n",
       "    </tr>\n",
       "  </thead>\n",
       "  <tbody>\n",
       "    <tr>\n",
       "      <td>count</td>\n",
       "      <td>10000.000000</td>\n",
       "      <td>10000.000000</td>\n",
       "      <td>10000.000000</td>\n",
       "      <td>10000.000000</td>\n",
       "      <td>6383.000000</td>\n",
       "      <td>10000.000000</td>\n",
       "      <td>10000.00000</td>\n",
       "      <td>10000.000000</td>\n",
       "      <td>10000.000000</td>\n",
       "      <td>10000.000000</td>\n",
       "    </tr>\n",
       "    <tr>\n",
       "      <td>mean</td>\n",
       "      <td>650.528800</td>\n",
       "      <td>0.545700</td>\n",
       "      <td>38.921800</td>\n",
       "      <td>5.012800</td>\n",
       "      <td>119827.493793</td>\n",
       "      <td>1.530200</td>\n",
       "      <td>0.70550</td>\n",
       "      <td>0.515100</td>\n",
       "      <td>100090.239881</td>\n",
       "      <td>0.203700</td>\n",
       "    </tr>\n",
       "    <tr>\n",
       "      <td>std</td>\n",
       "      <td>96.653299</td>\n",
       "      <td>0.497932</td>\n",
       "      <td>10.487806</td>\n",
       "      <td>2.892174</td>\n",
       "      <td>30095.056462</td>\n",
       "      <td>0.581654</td>\n",
       "      <td>0.45584</td>\n",
       "      <td>0.499797</td>\n",
       "      <td>57510.492818</td>\n",
       "      <td>0.402769</td>\n",
       "    </tr>\n",
       "    <tr>\n",
       "      <td>min</td>\n",
       "      <td>350.000000</td>\n",
       "      <td>0.000000</td>\n",
       "      <td>18.000000</td>\n",
       "      <td>0.000000</td>\n",
       "      <td>3768.690000</td>\n",
       "      <td>1.000000</td>\n",
       "      <td>0.00000</td>\n",
       "      <td>0.000000</td>\n",
       "      <td>11.580000</td>\n",
       "      <td>0.000000</td>\n",
       "    </tr>\n",
       "    <tr>\n",
       "      <td>25%</td>\n",
       "      <td>584.000000</td>\n",
       "      <td>0.000000</td>\n",
       "      <td>32.000000</td>\n",
       "      <td>3.000000</td>\n",
       "      <td>100181.975000</td>\n",
       "      <td>1.000000</td>\n",
       "      <td>0.00000</td>\n",
       "      <td>0.000000</td>\n",
       "      <td>51002.110000</td>\n",
       "      <td>0.000000</td>\n",
       "    </tr>\n",
       "    <tr>\n",
       "      <td>50%</td>\n",
       "      <td>652.000000</td>\n",
       "      <td>1.000000</td>\n",
       "      <td>37.000000</td>\n",
       "      <td>5.000000</td>\n",
       "      <td>119839.690000</td>\n",
       "      <td>1.000000</td>\n",
       "      <td>1.00000</td>\n",
       "      <td>1.000000</td>\n",
       "      <td>100193.915000</td>\n",
       "      <td>0.000000</td>\n",
       "    </tr>\n",
       "    <tr>\n",
       "      <td>75%</td>\n",
       "      <td>718.000000</td>\n",
       "      <td>1.000000</td>\n",
       "      <td>44.000000</td>\n",
       "      <td>7.000000</td>\n",
       "      <td>139512.290000</td>\n",
       "      <td>2.000000</td>\n",
       "      <td>1.00000</td>\n",
       "      <td>1.000000</td>\n",
       "      <td>149388.247500</td>\n",
       "      <td>0.000000</td>\n",
       "    </tr>\n",
       "    <tr>\n",
       "      <td>max</td>\n",
       "      <td>850.000000</td>\n",
       "      <td>1.000000</td>\n",
       "      <td>92.000000</td>\n",
       "      <td>10.000000</td>\n",
       "      <td>250898.090000</td>\n",
       "      <td>4.000000</td>\n",
       "      <td>1.00000</td>\n",
       "      <td>1.000000</td>\n",
       "      <td>199992.480000</td>\n",
       "      <td>1.000000</td>\n",
       "    </tr>\n",
       "  </tbody>\n",
       "</table>\n",
       "</div>"
      ],
      "text/plain": [
       "              score        gender           age       objects        balance  \\\n",
       "count  10000.000000  10000.000000  10000.000000  10000.000000    6383.000000   \n",
       "mean     650.528800      0.545700     38.921800      5.012800  119827.493793   \n",
       "std       96.653299      0.497932     10.487806      2.892174   30095.056462   \n",
       "min      350.000000      0.000000     18.000000      0.000000    3768.690000   \n",
       "25%      584.000000      0.000000     32.000000      3.000000  100181.975000   \n",
       "50%      652.000000      1.000000     37.000000      5.000000  119839.690000   \n",
       "75%      718.000000      1.000000     44.000000      7.000000  139512.290000   \n",
       "max      850.000000      1.000000     92.000000     10.000000  250898.090000   \n",
       "\n",
       "           products   creditcard       loyalty  estimated_salary         churn  \n",
       "count  10000.000000  10000.00000  10000.000000      10000.000000  10000.000000  \n",
       "mean       1.530200      0.70550      0.515100     100090.239881      0.203700  \n",
       "std        0.581654      0.45584      0.499797      57510.492818      0.402769  \n",
       "min        1.000000      0.00000      0.000000         11.580000      0.000000  \n",
       "25%        1.000000      0.00000      0.000000      51002.110000      0.000000  \n",
       "50%        1.000000      1.00000      1.000000     100193.915000      0.000000  \n",
       "75%        2.000000      1.00000      1.000000     149388.247500      0.000000  \n",
       "max        4.000000      1.00000      1.000000     199992.480000      1.000000  "
      ]
     },
     "execution_count": 15,
     "metadata": {},
     "output_type": "execute_result"
    }
   ],
   "source": [
    "bank.drop('userid', axis=1).describe()"
   ]
  },
  {
   "cell_type": "markdown",
   "metadata": {},
   "source": [
    "Таблица со средними значениями дает нам понять, что в представленных данных клиентов мужчин больше, примерно 70% клиентов имеют кредитные карты, чуть больше половины клиентов считаются активными, а в группе отток около 20% клиентов. Можем заметить, что в количественных данных средние значения и медиальные не сильно различаются, это может говорить о том, что у нас нет сильных выбросов.\n",
    "\n",
    "\n",
    "В общем, наш самый средний клиент имеет 652 балла скоринга, это мужчина в возрасте 37 лет, имеет 5 объектов в собственности, на счете у него около 120 тысяч, пользуется 1 продуктом банка, имеет кредитную карту, это активный пользователь и его заработная плата около 100 тысяч."
   ]
  },
  {
   "cell_type": "markdown",
   "metadata": {},
   "source": [
    "##### <a id='ch2_2'>Распределения признаков</a>"
   ]
  },
  {
   "cell_type": "code",
   "execution_count": 16,
   "metadata": {},
   "outputs": [],
   "source": [
    "# Разделим наши характеристики на два списка, в первом будут количественные данные, а во втором категориальные\n",
    "list_cat = ['age','score', 'objects', 'balance', 'products', 'estimated_salary']\n",
    "list_cat_2 = ['city','gender', 'creditcard', 'loyalty']"
   ]
  },
  {
   "cell_type": "code",
   "execution_count": 17,
   "metadata": {
    "scrolled": false
   },
   "outputs": [
    {
     "data": {
      "image/png": "[encoded data removed]",
      "text/plain": [
       "<Figure size 1152x1152 with 6 Axes>"
      ]
     },
     "metadata": {
      "needs_background": "light"
     },
     "output_type": "display_data"
    }
   ],
   "source": [
    "a=1\n",
    "plt.figure(figsize=(16,16))\n",
    "for i in list_cat:\n",
    "    \n",
    "    plt.subplot(3,2,a)\n",
    "    plt.title('Диаграмма размаха характеристики' +' '+ i )\n",
    "    sns.boxplot(data=bank, y=i, color='g')\n",
    "    plt.xlabel(i)\n",
    "    plt.grid(True)\n",
    "   \n",
    "    a += 1"
   ]
  },
  {
   "cell_type": "markdown",
   "metadata": {},
   "source": [
    "На графиках выше мы можем увидеть, как распределены наши данные. Некоторые характеристики имеют выбросы, а именно в возрасте, баллах кредитного скоринга, балансе на счете и в количестве используемых продуктов. "
   ]
  },
  {
   "cell_type": "code",
   "execution_count": 18,
   "metadata": {},
   "outputs": [
    {
     "data": {
      "image/png": "[encoded data removed]",
      "text/plain": [
       "<Figure size 1152x864 with 4 Axes>"
      ]
     },
     "metadata": {
      "needs_background": "light"
     },
     "output_type": "display_data"
    }
   ],
   "source": [
    "a=1\n",
    "plt.figure(figsize=(16,12))\n",
    "for i in list_cat_2:\n",
    "    tabl = bank.groupby(i)['userid'].count().reset_index()\n",
    "\n",
    "    plt.subplot(2,2,a)\n",
    "    plt.title('распределение пользователей для признака' +' '+ i )\n",
    "    sns.barplot(data=tabl, x=i, y='userid')\n",
    "    plt.ylabel('количество')\n",
    "    plt.grid(True)\n",
    "    a += 1"
   ]
  },
  {
   "cell_type": "markdown",
   "metadata": {},
   "source": [
    "Большинство наших клиентов проживает в Ярославле, в Ростове Великом и Рыбинске живет примерно поровну, преобладающее количество клиентов — мужчины, а кредитную карту имеют 70% наших клиентов, активных клиентов немногим больше, чем неактивных. "
   ]
  },
  {
   "cell_type": "markdown",
   "metadata": {},
   "source": [
    "##### <a id='ch2_3'>Корреляционный анализ</a>"
   ]
  },
  {
   "cell_type": "markdown",
   "metadata": {},
   "source": [
    "Проверим, как взаимосвязаны наши характеристики, есть ли корреляция между ними. Проверим это используя коэффициент Пирсона."
   ]
  },
  {
   "cell_type": "code",
   "execution_count": 19,
   "metadata": {},
   "outputs": [
    {
     "data": {
      "text/html": [
       "<div>\n",
       "<style scoped>\n",
       "    .dataframe tbody tr th:only-of-type {\n",
       "        vertical-align: middle;\n",
       "    }\n",
       "\n",
       "    .dataframe tbody tr th {\n",
       "        vertical-align: top;\n",
       "    }\n",
       "\n",
       "    .dataframe thead th {\n",
       "        text-align: right;\n",
       "    }\n",
       "</style>\n",
       "<table border=\"1\" class=\"dataframe\">\n",
       "  <thead>\n",
       "    <tr style=\"text-align: right;\">\n",
       "      <th></th>\n",
       "      <th>userid</th>\n",
       "      <th>score</th>\n",
       "      <th>gender</th>\n",
       "      <th>age</th>\n",
       "      <th>objects</th>\n",
       "      <th>balance</th>\n",
       "      <th>products</th>\n",
       "      <th>creditcard</th>\n",
       "      <th>loyalty</th>\n",
       "      <th>estimated_salary</th>\n",
       "    </tr>\n",
       "  </thead>\n",
       "  <tbody>\n",
       "    <tr>\n",
       "      <td>userid</td>\n",
       "      <td>1.000000</td>\n",
       "      <td>0.005308</td>\n",
       "      <td>-0.002641</td>\n",
       "      <td>0.009497</td>\n",
       "      <td>-0.014883</td>\n",
       "      <td>-0.008690</td>\n",
       "      <td>0.016972</td>\n",
       "      <td>-0.014025</td>\n",
       "      <td>0.001665</td>\n",
       "      <td>0.015271</td>\n",
       "    </tr>\n",
       "    <tr>\n",
       "      <td>score</td>\n",
       "      <td>0.005308</td>\n",
       "      <td>1.000000</td>\n",
       "      <td>-0.002857</td>\n",
       "      <td>-0.003965</td>\n",
       "      <td>0.000842</td>\n",
       "      <td>-0.004744</td>\n",
       "      <td>0.012238</td>\n",
       "      <td>-0.005458</td>\n",
       "      <td>0.025651</td>\n",
       "      <td>-0.001384</td>\n",
       "    </tr>\n",
       "    <tr>\n",
       "      <td>gender</td>\n",
       "      <td>-0.002641</td>\n",
       "      <td>-0.002857</td>\n",
       "      <td>1.000000</td>\n",
       "      <td>-0.027544</td>\n",
       "      <td>0.014733</td>\n",
       "      <td>0.025742</td>\n",
       "      <td>-0.021859</td>\n",
       "      <td>0.005766</td>\n",
       "      <td>0.022544</td>\n",
       "      <td>-0.008112</td>\n",
       "    </tr>\n",
       "    <tr>\n",
       "      <td>age</td>\n",
       "      <td>0.009497</td>\n",
       "      <td>-0.003965</td>\n",
       "      <td>-0.027544</td>\n",
       "      <td>1.000000</td>\n",
       "      <td>-0.009997</td>\n",
       "      <td>-0.012822</td>\n",
       "      <td>-0.030680</td>\n",
       "      <td>-0.011721</td>\n",
       "      <td>0.085472</td>\n",
       "      <td>-0.007201</td>\n",
       "    </tr>\n",
       "    <tr>\n",
       "      <td>objects</td>\n",
       "      <td>-0.014883</td>\n",
       "      <td>0.000842</td>\n",
       "      <td>0.014733</td>\n",
       "      <td>-0.009997</td>\n",
       "      <td>1.000000</td>\n",
       "      <td>0.005827</td>\n",
       "      <td>0.013444</td>\n",
       "      <td>0.022583</td>\n",
       "      <td>-0.028362</td>\n",
       "      <td>0.007784</td>\n",
       "    </tr>\n",
       "    <tr>\n",
       "      <td>balance</td>\n",
       "      <td>-0.008690</td>\n",
       "      <td>-0.004744</td>\n",
       "      <td>0.025742</td>\n",
       "      <td>-0.012822</td>\n",
       "      <td>0.005827</td>\n",
       "      <td>1.000000</td>\n",
       "      <td>-0.001027</td>\n",
       "      <td>0.006721</td>\n",
       "      <td>-0.020418</td>\n",
       "      <td>-0.001856</td>\n",
       "    </tr>\n",
       "    <tr>\n",
       "      <td>products</td>\n",
       "      <td>0.016972</td>\n",
       "      <td>0.012238</td>\n",
       "      <td>-0.021859</td>\n",
       "      <td>-0.030680</td>\n",
       "      <td>0.013444</td>\n",
       "      <td>-0.001027</td>\n",
       "      <td>1.000000</td>\n",
       "      <td>0.003183</td>\n",
       "      <td>0.009612</td>\n",
       "      <td>0.014204</td>\n",
       "    </tr>\n",
       "    <tr>\n",
       "      <td>creditcard</td>\n",
       "      <td>-0.014025</td>\n",
       "      <td>-0.005458</td>\n",
       "      <td>0.005766</td>\n",
       "      <td>-0.011721</td>\n",
       "      <td>0.022583</td>\n",
       "      <td>0.006721</td>\n",
       "      <td>0.003183</td>\n",
       "      <td>1.000000</td>\n",
       "      <td>-0.011866</td>\n",
       "      <td>-0.009933</td>\n",
       "    </tr>\n",
       "    <tr>\n",
       "      <td>loyalty</td>\n",
       "      <td>0.001665</td>\n",
       "      <td>0.025651</td>\n",
       "      <td>0.022544</td>\n",
       "      <td>0.085472</td>\n",
       "      <td>-0.028362</td>\n",
       "      <td>-0.020418</td>\n",
       "      <td>0.009612</td>\n",
       "      <td>-0.011866</td>\n",
       "      <td>1.000000</td>\n",
       "      <td>-0.011421</td>\n",
       "    </tr>\n",
       "    <tr>\n",
       "      <td>estimated_salary</td>\n",
       "      <td>0.015271</td>\n",
       "      <td>-0.001384</td>\n",
       "      <td>-0.008112</td>\n",
       "      <td>-0.007201</td>\n",
       "      <td>0.007784</td>\n",
       "      <td>-0.001856</td>\n",
       "      <td>0.014204</td>\n",
       "      <td>-0.009933</td>\n",
       "      <td>-0.011421</td>\n",
       "      <td>1.000000</td>\n",
       "    </tr>\n",
       "  </tbody>\n",
       "</table>\n",
       "</div>"
      ],
      "text/plain": [
       "                    userid     score    gender       age   objects   balance  \\\n",
       "userid            1.000000  0.005308 -0.002641  0.009497 -0.014883 -0.008690   \n",
       "score             0.005308  1.000000 -0.002857 -0.003965  0.000842 -0.004744   \n",
       "gender           -0.002641 -0.002857  1.000000 -0.027544  0.014733  0.025742   \n",
       "age               0.009497 -0.003965 -0.027544  1.000000 -0.009997 -0.012822   \n",
       "objects          -0.014883  0.000842  0.014733 -0.009997  1.000000  0.005827   \n",
       "balance          -0.008690 -0.004744  0.025742 -0.012822  0.005827  1.000000   \n",
       "products          0.016972  0.012238 -0.021859 -0.030680  0.013444 -0.001027   \n",
       "creditcard       -0.014025 -0.005458  0.005766 -0.011721  0.022583  0.006721   \n",
       "loyalty           0.001665  0.025651  0.022544  0.085472 -0.028362 -0.020418   \n",
       "estimated_salary  0.015271 -0.001384 -0.008112 -0.007201  0.007784 -0.001856   \n",
       "\n",
       "                  products  creditcard   loyalty  estimated_salary  \n",
       "userid            0.016972   -0.014025  0.001665          0.015271  \n",
       "score             0.012238   -0.005458  0.025651         -0.001384  \n",
       "gender           -0.021859    0.005766  0.022544         -0.008112  \n",
       "age              -0.030680   -0.011721  0.085472         -0.007201  \n",
       "objects           0.013444    0.022583 -0.028362          0.007784  \n",
       "balance          -0.001027    0.006721 -0.020418         -0.001856  \n",
       "products          1.000000    0.003183  0.009612          0.014204  \n",
       "creditcard        0.003183    1.000000 -0.011866         -0.009933  \n",
       "loyalty           0.009612   -0.011866  1.000000         -0.011421  \n",
       "estimated_salary  0.014204   -0.009933 -0.011421          1.000000  "
      ]
     },
     "execution_count": 19,
     "metadata": {},
     "output_type": "execute_result"
    }
   ],
   "source": [
    "bank.drop('churn', axis=1).corr()"
   ]
  },
  {
   "cell_type": "code",
   "execution_count": 20,
   "metadata": {},
   "outputs": [
    {
     "data": {
      "text/plain": [
       "<matplotlib.axes._subplots.AxesSubplot at 0x7fbf1491e910>"
      ]
     },
     "execution_count": 20,
     "metadata": {},
     "output_type": "execute_result"
    },
    {
     "data": {
      "image/png": "[encoded data removed]",
      "text/plain": [
       "<Figure size 864x432 with 2 Axes>"
      ]
     },
     "metadata": {
      "needs_background": "light"
     },
     "output_type": "display_data"
    }
   ],
   "source": [
    "plt.figure(figsize=(12,6))\n",
    "plt.title('тепловая карта корреляции характеристик')\n",
    "sns.heatmap(bank.drop('churn', axis=1).corr(), annot=True)"
   ]
  },
  {
   "cell_type": "markdown",
   "metadata": {},
   "source": [
    "Характеристики наших клиентов практически не коррелируют между собой, что исключает влияние одной характеристики на другую. "
   ]
  },
  {
   "cell_type": "markdown",
   "metadata": {},
   "source": [
    "##### <a id='ch2_4'>Вывод:</a>\n",
    "Был проведен исследовательский анализ данных по итогам анализа нами был описан среднестатистический клиент банка:\n",
    "Наш средний клиент имеет 652 балла скоринга, это мужчина в возрасте 37 лет, имеет 5 объектов в собственности, на счете у него около 120 тысяч, пользуется 1 продуктом банка, имеет кредитную карту, это активный пользователь, его заработная плата около 100 тысяч и ,скорее всего, проживает в городе Ярославле.\n",
    "Так же наши характеристики не влияют друг на друга их корреляция близка к нулю. "
   ]
  },
  {
   "cell_type": "markdown",
   "metadata": {},
   "source": [
    "#### <a id='ch3'>Портрет клиента склонного к оттоку</a>"
   ]
  },
  {
   "cell_type": "markdown",
   "metadata": {},
   "source": [
    "Далее мы рассмотрим клиента склонного уходить и сравним его с лояльным клиентом, клиент который остается в банке."
   ]
  },
  {
   "cell_type": "markdown",
   "metadata": {},
   "source": [
    "Средние характеристики клиента, который склонен оставаться с банком"
   ]
  },
  {
   "cell_type": "code",
   "execution_count": 21,
   "metadata": {},
   "outputs": [
    {
     "data": {
      "text/html": [
       "<div>\n",
       "<style scoped>\n",
       "    .dataframe tbody tr th:only-of-type {\n",
       "        vertical-align: middle;\n",
       "    }\n",
       "\n",
       "    .dataframe tbody tr th {\n",
       "        vertical-align: top;\n",
       "    }\n",
       "\n",
       "    .dataframe thead th {\n",
       "        text-align: right;\n",
       "    }\n",
       "</style>\n",
       "<table border=\"1\" class=\"dataframe\">\n",
       "  <thead>\n",
       "    <tr style=\"text-align: right;\">\n",
       "      <th></th>\n",
       "      <th>score</th>\n",
       "      <th>gender</th>\n",
       "      <th>age</th>\n",
       "      <th>objects</th>\n",
       "      <th>balance</th>\n",
       "      <th>products</th>\n",
       "      <th>creditcard</th>\n",
       "      <th>loyalty</th>\n",
       "      <th>estimated_salary</th>\n",
       "    </tr>\n",
       "  </thead>\n",
       "  <tbody>\n",
       "    <tr>\n",
       "      <td>count</td>\n",
       "      <td>7963.000000</td>\n",
       "      <td>7963.000000</td>\n",
       "      <td>7963.000000</td>\n",
       "      <td>7963.000000</td>\n",
       "      <td>4846.000000</td>\n",
       "      <td>7963.000000</td>\n",
       "      <td>7963.000000</td>\n",
       "      <td>7963.000000</td>\n",
       "      <td>7963.000000</td>\n",
       "    </tr>\n",
       "    <tr>\n",
       "      <td>mean</td>\n",
       "      <td>651.853196</td>\n",
       "      <td>0.572523</td>\n",
       "      <td>37.408389</td>\n",
       "      <td>5.033279</td>\n",
       "      <td>119535.864270</td>\n",
       "      <td>1.544267</td>\n",
       "      <td>0.707146</td>\n",
       "      <td>0.554565</td>\n",
       "      <td>99738.391772</td>\n",
       "    </tr>\n",
       "    <tr>\n",
       "      <td>std</td>\n",
       "      <td>95.653837</td>\n",
       "      <td>0.494744</td>\n",
       "      <td>10.125363</td>\n",
       "      <td>2.880658</td>\n",
       "      <td>29944.927372</td>\n",
       "      <td>0.509536</td>\n",
       "      <td>0.455101</td>\n",
       "      <td>0.497045</td>\n",
       "      <td>57405.586966</td>\n",
       "    </tr>\n",
       "    <tr>\n",
       "      <td>min</td>\n",
       "      <td>405.000000</td>\n",
       "      <td>0.000000</td>\n",
       "      <td>18.000000</td>\n",
       "      <td>0.000000</td>\n",
       "      <td>14262.800000</td>\n",
       "      <td>1.000000</td>\n",
       "      <td>0.000000</td>\n",
       "      <td>0.000000</td>\n",
       "      <td>90.070000</td>\n",
       "    </tr>\n",
       "    <tr>\n",
       "      <td>25%</td>\n",
       "      <td>585.000000</td>\n",
       "      <td>0.000000</td>\n",
       "      <td>31.000000</td>\n",
       "      <td>3.000000</td>\n",
       "      <td>99118.230000</td>\n",
       "      <td>1.000000</td>\n",
       "      <td>0.000000</td>\n",
       "      <td>0.000000</td>\n",
       "      <td>50783.490000</td>\n",
       "    </tr>\n",
       "    <tr>\n",
       "      <td>50%</td>\n",
       "      <td>653.000000</td>\n",
       "      <td>1.000000</td>\n",
       "      <td>36.000000</td>\n",
       "      <td>5.000000</td>\n",
       "      <td>119791.215000</td>\n",
       "      <td>2.000000</td>\n",
       "      <td>1.000000</td>\n",
       "      <td>1.000000</td>\n",
       "      <td>99645.040000</td>\n",
       "    </tr>\n",
       "    <tr>\n",
       "      <td>75%</td>\n",
       "      <td>718.000000</td>\n",
       "      <td>1.000000</td>\n",
       "      <td>41.000000</td>\n",
       "      <td>7.000000</td>\n",
       "      <td>139747.397500</td>\n",
       "      <td>2.000000</td>\n",
       "      <td>1.000000</td>\n",
       "      <td>1.000000</td>\n",
       "      <td>148609.955000</td>\n",
       "    </tr>\n",
       "    <tr>\n",
       "      <td>max</td>\n",
       "      <td>850.000000</td>\n",
       "      <td>1.000000</td>\n",
       "      <td>92.000000</td>\n",
       "      <td>10.000000</td>\n",
       "      <td>221532.800000</td>\n",
       "      <td>3.000000</td>\n",
       "      <td>1.000000</td>\n",
       "      <td>1.000000</td>\n",
       "      <td>199992.480000</td>\n",
       "    </tr>\n",
       "  </tbody>\n",
       "</table>\n",
       "</div>"
      ],
      "text/plain": [
       "             score       gender          age      objects        balance  \\\n",
       "count  7963.000000  7963.000000  7963.000000  7963.000000    4846.000000   \n",
       "mean    651.853196     0.572523    37.408389     5.033279  119535.864270   \n",
       "std      95.653837     0.494744    10.125363     2.880658   29944.927372   \n",
       "min     405.000000     0.000000    18.000000     0.000000   14262.800000   \n",
       "25%     585.000000     0.000000    31.000000     3.000000   99118.230000   \n",
       "50%     653.000000     1.000000    36.000000     5.000000  119791.215000   \n",
       "75%     718.000000     1.000000    41.000000     7.000000  139747.397500   \n",
       "max     850.000000     1.000000    92.000000    10.000000  221532.800000   \n",
       "\n",
       "          products   creditcard      loyalty  estimated_salary  \n",
       "count  7963.000000  7963.000000  7963.000000       7963.000000  \n",
       "mean      1.544267     0.707146     0.554565      99738.391772  \n",
       "std       0.509536     0.455101     0.497045      57405.586966  \n",
       "min       1.000000     0.000000     0.000000         90.070000  \n",
       "25%       1.000000     0.000000     0.000000      50783.490000  \n",
       "50%       2.000000     1.000000     1.000000      99645.040000  \n",
       "75%       2.000000     1.000000     1.000000     148609.955000  \n",
       "max       3.000000     1.000000     1.000000     199992.480000  "
      ]
     },
     "execution_count": 21,
     "metadata": {},
     "output_type": "execute_result"
    }
   ],
   "source": [
    "bank[bank['churn'] == 0].drop(['userid','churn'], axis=1).describe()"
   ]
  },
  {
   "cell_type": "code",
   "execution_count": 22,
   "metadata": {},
   "outputs": [
    {
     "data": {
      "text/plain": [
       "0.6085646113273891"
      ]
     },
     "execution_count": 22,
     "metadata": {},
     "output_type": "execute_result"
    }
   ],
   "source": [
    "#Доля клиентов, которые открыли счет в банке\n",
    "4846 / 7963"
   ]
  },
  {
   "cell_type": "markdown",
   "metadata": {},
   "source": [
    "Средний клиент, который склонен оставаться с банком, имеет средний возраст в 37,5 лет, среднюю зарплату окола 100 тысяч,  имеет 5 объектов в собственности, чаще всего использует  1 или 2 продукта банка, у 61% клиентов открыт счет, у 71% есть кредитные карты, а на счету хранится около 120 тысяч. Большинство клиентов, которые остаются с банком, активные."
   ]
  },
  {
   "cell_type": "markdown",
   "metadata": {},
   "source": [
    "Средние характеристики клиента, который покинул банк"
   ]
  },
  {
   "cell_type": "code",
   "execution_count": 23,
   "metadata": {},
   "outputs": [
    {
     "data": {
      "text/html": [
       "<div>\n",
       "<style scoped>\n",
       "    .dataframe tbody tr th:only-of-type {\n",
       "        vertical-align: middle;\n",
       "    }\n",
       "\n",
       "    .dataframe tbody tr th {\n",
       "        vertical-align: top;\n",
       "    }\n",
       "\n",
       "    .dataframe thead th {\n",
       "        text-align: right;\n",
       "    }\n",
       "</style>\n",
       "<table border=\"1\" class=\"dataframe\">\n",
       "  <thead>\n",
       "    <tr style=\"text-align: right;\">\n",
       "      <th></th>\n",
       "      <th>score</th>\n",
       "      <th>gender</th>\n",
       "      <th>age</th>\n",
       "      <th>objects</th>\n",
       "      <th>balance</th>\n",
       "      <th>products</th>\n",
       "      <th>creditcard</th>\n",
       "      <th>loyalty</th>\n",
       "      <th>estimated_salary</th>\n",
       "    </tr>\n",
       "  </thead>\n",
       "  <tbody>\n",
       "    <tr>\n",
       "      <td>count</td>\n",
       "      <td>2037.000000</td>\n",
       "      <td>2037.000000</td>\n",
       "      <td>2037.000000</td>\n",
       "      <td>2037.000000</td>\n",
       "      <td>1537.000000</td>\n",
       "      <td>2037.000000</td>\n",
       "      <td>2037.000000</td>\n",
       "      <td>2037.000000</td>\n",
       "      <td>2037.000000</td>\n",
       "    </tr>\n",
       "    <tr>\n",
       "      <td>mean</td>\n",
       "      <td>645.351497</td>\n",
       "      <td>0.440844</td>\n",
       "      <td>44.837997</td>\n",
       "      <td>4.932744</td>\n",
       "      <td>120746.971132</td>\n",
       "      <td>1.475209</td>\n",
       "      <td>0.699067</td>\n",
       "      <td>0.360825</td>\n",
       "      <td>101465.677531</td>\n",
       "    </tr>\n",
       "    <tr>\n",
       "      <td>std</td>\n",
       "      <td>100.321503</td>\n",
       "      <td>0.496610</td>\n",
       "      <td>9.761562</td>\n",
       "      <td>2.936106</td>\n",
       "      <td>30555.192802</td>\n",
       "      <td>0.801521</td>\n",
       "      <td>0.458776</td>\n",
       "      <td>0.480358</td>\n",
       "      <td>57912.418071</td>\n",
       "    </tr>\n",
       "    <tr>\n",
       "      <td>min</td>\n",
       "      <td>350.000000</td>\n",
       "      <td>0.000000</td>\n",
       "      <td>18.000000</td>\n",
       "      <td>0.000000</td>\n",
       "      <td>3768.690000</td>\n",
       "      <td>1.000000</td>\n",
       "      <td>0.000000</td>\n",
       "      <td>0.000000</td>\n",
       "      <td>11.580000</td>\n",
       "    </tr>\n",
       "    <tr>\n",
       "      <td>25%</td>\n",
       "      <td>578.000000</td>\n",
       "      <td>0.000000</td>\n",
       "      <td>38.000000</td>\n",
       "      <td>2.000000</td>\n",
       "      <td>103700.690000</td>\n",
       "      <td>1.000000</td>\n",
       "      <td>0.000000</td>\n",
       "      <td>0.000000</td>\n",
       "      <td>51907.720000</td>\n",
       "    </tr>\n",
       "    <tr>\n",
       "      <td>50%</td>\n",
       "      <td>646.000000</td>\n",
       "      <td>0.000000</td>\n",
       "      <td>45.000000</td>\n",
       "      <td>5.000000</td>\n",
       "      <td>119948.090000</td>\n",
       "      <td>1.000000</td>\n",
       "      <td>1.000000</td>\n",
       "      <td>0.000000</td>\n",
       "      <td>102460.840000</td>\n",
       "    </tr>\n",
       "    <tr>\n",
       "      <td>75%</td>\n",
       "      <td>716.000000</td>\n",
       "      <td>1.000000</td>\n",
       "      <td>51.000000</td>\n",
       "      <td>8.000000</td>\n",
       "      <td>137986.580000</td>\n",
       "      <td>2.000000</td>\n",
       "      <td>1.000000</td>\n",
       "      <td>1.000000</td>\n",
       "      <td>152422.910000</td>\n",
       "    </tr>\n",
       "    <tr>\n",
       "      <td>max</td>\n",
       "      <td>850.000000</td>\n",
       "      <td>1.000000</td>\n",
       "      <td>84.000000</td>\n",
       "      <td>10.000000</td>\n",
       "      <td>250898.090000</td>\n",
       "      <td>4.000000</td>\n",
       "      <td>1.000000</td>\n",
       "      <td>1.000000</td>\n",
       "      <td>199808.100000</td>\n",
       "    </tr>\n",
       "  </tbody>\n",
       "</table>\n",
       "</div>"
      ],
      "text/plain": [
       "             score       gender          age      objects        balance  \\\n",
       "count  2037.000000  2037.000000  2037.000000  2037.000000    1537.000000   \n",
       "mean    645.351497     0.440844    44.837997     4.932744  120746.971132   \n",
       "std     100.321503     0.496610     9.761562     2.936106   30555.192802   \n",
       "min     350.000000     0.000000    18.000000     0.000000    3768.690000   \n",
       "25%     578.000000     0.000000    38.000000     2.000000  103700.690000   \n",
       "50%     646.000000     0.000000    45.000000     5.000000  119948.090000   \n",
       "75%     716.000000     1.000000    51.000000     8.000000  137986.580000   \n",
       "max     850.000000     1.000000    84.000000    10.000000  250898.090000   \n",
       "\n",
       "          products   creditcard      loyalty  estimated_salary  \n",
       "count  2037.000000  2037.000000  2037.000000       2037.000000  \n",
       "mean      1.475209     0.699067     0.360825     101465.677531  \n",
       "std       0.801521     0.458776     0.480358      57912.418071  \n",
       "min       1.000000     0.000000     0.000000         11.580000  \n",
       "25%       1.000000     0.000000     0.000000      51907.720000  \n",
       "50%       1.000000     1.000000     0.000000     102460.840000  \n",
       "75%       2.000000     1.000000     1.000000     152422.910000  \n",
       "max       4.000000     1.000000     1.000000     199808.100000  "
      ]
     },
     "execution_count": 23,
     "metadata": {},
     "output_type": "execute_result"
    }
   ],
   "source": [
    "bank[bank['churn'] == 1].drop(['userid','churn'], axis=1).describe()"
   ]
  },
  {
   "cell_type": "code",
   "execution_count": 24,
   "metadata": {},
   "outputs": [
    {
     "data": {
      "text/plain": [
       "0.7545409916543937"
      ]
     },
     "execution_count": 24,
     "metadata": {},
     "output_type": "execute_result"
    }
   ],
   "source": [
    "#Доля клиентов, которые открыли счет в банке\n",
    "1537/2037"
   ]
  },
  {
   "cell_type": "markdown",
   "metadata": {},
   "source": [
    "Средний клиент, который покинул банк. Его средний возраст 45 лет, имеет среднюю зарплату чуть выше 100 тысяч, в среднем 5 объектов недвижимости, на балансе было около 120 тысяч, так же пользовался 1 или 2 продуктами, у 70% были кредитные карты. Кардинальные различия с клиентами, которые остаются с банком, в возрасте, активности (покинувшие клиенты были в среднем менее активны и лояльны банку), но интересно, что покинувшие клиенты имели большую долю открытых счетов (75% против 61%)."
   ]
  },
  {
   "cell_type": "code",
   "execution_count": 25,
   "metadata": {
    "scrolled": false
   },
   "outputs": [
    {
     "data": {
      "image/png": "[encoded data removed]",
      "text/plain": [
       "<Figure size 1296x1152 with 6 Axes>"
      ]
     },
     "metadata": {
      "needs_background": "light"
     },
     "output_type": "display_data"
    }
   ],
   "source": [
    "\n",
    "a=1\n",
    "plt.figure(figsize=(18,16))\n",
    "for i in list_cat:\n",
    "    \n",
    "    plt.subplot(3,2,a)\n",
    "    plt.title('Диаграмма размаха характеристики' +' '+ i )\n",
    "    sns.boxplot(data=bank, y=i, x='churn', hue='churn')\n",
    "    plt.xlabel('группа')\n",
    "    plt.ylabel('количество')\n",
    "\n",
    "   \n",
    "    a += 1"
   ]
  },
  {
   "cell_type": "markdown",
   "metadata": {},
   "source": [
    "На диаграмме распределения видно, что средние значения сильнее всего разнится в возрасте, так же заметно, что в группе оттока разброс по объектам больше, чем у тех, кто остается с банком."
   ]
  },
  {
   "cell_type": "markdown",
   "metadata": {},
   "source": [
    "Построим столбчатые диаграммы для категориальных признаков"
   ]
  },
  {
   "cell_type": "code",
   "execution_count": 26,
   "metadata": {
    "scrolled": false
   },
   "outputs": [
    {
     "data": {
      "image/png": "[encoded data removed]",
      "text/plain": [
       "<Figure size 864x432 with 1 Axes>"
      ]
     },
     "metadata": {
      "needs_background": "light"
     },
     "output_type": "display_data"
    },
    {
     "data": {
      "image/png": "[encoded data removed]",
      "text/plain": [
       "<Figure size 864x432 with 1 Axes>"
      ]
     },
     "metadata": {
      "needs_background": "light"
     },
     "output_type": "display_data"
    },
    {
     "data": {
      "image/png": "[encoded data removed]",
      "text/plain": [
       "<Figure size 864x432 with 1 Axes>"
      ]
     },
     "metadata": {
      "needs_background": "light"
     },
     "output_type": "display_data"
    },
    {
     "data": {
      "image/png": "[encoded data removed]",
      "text/plain": [
       "<Figure size 864x432 with 1 Axes>"
      ]
     },
     "metadata": {
      "needs_background": "light"
     },
     "output_type": "display_data"
    }
   ],
   "source": [
    "for i in list_cat_2:\n",
    "    tabl = bank.groupby([i,'churn'])['userid'].count().reset_index()\n",
    "\n",
    "    plt.figure(figsize=(12,6))\n",
    "    plt.title('распределение пользователей для признака' +' '+ i )\n",
    "    sns.barplot(data=tabl, x=i, y='userid', hue='churn')\n",
    "    plt.ylabel('количество')\n"
   ]
  },
  {
   "cell_type": "code",
   "execution_count": 27,
   "metadata": {},
   "outputs": [
    {
     "name": "stdout",
     "output_type": "stream",
     "text": [
      "Доля оттока в Ростов Великий: 0.19\n",
      "Доля оттока в Рыбинске: 0.2\n",
      "Доля оттока в Ярославле: 0 2\n"
     ]
    }
   ],
   "source": [
    "print('Доля оттока в Ростов Великий:',round(810/4204,2))\n",
    "print('Доля оттока в Рыбинске:',round(413/2064,2))\n",
    "print('Доля оттока в Ярославле:',round(814/1695),2)"
   ]
  },
  {
   "cell_type": "markdown",
   "metadata": {},
   "source": [
    "Сложно выделить самый \"дружелюбный\" город, доля оттока у всех примерно одинакова, только в Ростове Великом она на 1 % ниже, чем в других городах, но точно можно сказать, что в Ярославле самый большой охват. Ушедших женщин больше, чем мужчин, но в целом мужчин больше. Большинство клиентов пользуются кредитной картой, а активность клиентов распределена примерно по ровну, но неактивные клиенты уходят чаще."
   ]
  },
  {
   "cell_type": "markdown",
   "metadata": {},
   "source": [
    "##### <a id='ch3_1'>Портрет клиента склонного к оттоку</a>\n",
    "\n",
    "Средний клиент, который склонен к оттоку, в преобладающих случаях это женщина, в возрасте около 45 лет, это неактивный клиент, он так же, как и лояльный клиент банка, имеет 5 объектов собственности, пользуется чаще 1 или 2 продуктами банка, и имеет кредитную карту. На счету у него, в среднем, 120 тысяч, а средняя зарплата около 100 тысяч, но его  баллы кредитного скоринга чуть меньше, чем у лояльного клиента, а проживать такой клиент может в любом из 3-х городов.  "
   ]
  },
  {
   "cell_type": "markdown",
   "metadata": {},
   "source": [
    "#### <a id='ch4'>Проверка статистических гипотез</a>"
   ]
  },
  {
   "cell_type": "markdown",
   "metadata": {},
   "source": [
    "##### <a id='ch4_1'>Гипотеза о различиях дохода между теми клиентами, которые ушли и теми, которые остались</a>"
   ]
  },
  {
   "cell_type": "markdown",
   "metadata": {},
   "source": [
    "Значима ли разница в доходе между клиентами, которые ушли и теми, которые остались, быть может средняя зарплата клиентов из группы оттока больше и им необходимы какие-то другие условия. "
   ]
  },
  {
   "cell_type": "markdown",
   "metadata": {},
   "source": [
    "Посчитаем средние значения, дисперсию и стандартное отклонение для каждой группы"
   ]
  },
  {
   "cell_type": "code",
   "execution_count": 28,
   "metadata": {},
   "outputs": [],
   "source": [
    "charact = round(bank\\\n",
    ".groupby('churn')['estimated_salary']\\\n",
    ".agg([np.mean, lambda var: np.var(var, ddof=1), lambda std: np.std(std, ddof=1)])).reset_index()"
   ]
  },
  {
   "cell_type": "code",
   "execution_count": 29,
   "metadata": {},
   "outputs": [
    {
     "data": {
      "text/html": [
       "<div>\n",
       "<style scoped>\n",
       "    .dataframe tbody tr th:only-of-type {\n",
       "        vertical-align: middle;\n",
       "    }\n",
       "\n",
       "    .dataframe tbody tr th {\n",
       "        vertical-align: top;\n",
       "    }\n",
       "\n",
       "    .dataframe thead th {\n",
       "        text-align: right;\n",
       "    }\n",
       "</style>\n",
       "<table border=\"1\" class=\"dataframe\">\n",
       "  <thead>\n",
       "    <tr style=\"text-align: right;\">\n",
       "      <th></th>\n",
       "      <th>group</th>\n",
       "      <th>mean</th>\n",
       "      <th>variance</th>\n",
       "      <th>std</th>\n",
       "    </tr>\n",
       "  </thead>\n",
       "  <tbody>\n",
       "    <tr>\n",
       "      <td>0</td>\n",
       "      <td>0</td>\n",
       "      <td>99738.0</td>\n",
       "      <td>3.295401e+09</td>\n",
       "      <td>57406.0</td>\n",
       "    </tr>\n",
       "    <tr>\n",
       "      <td>1</td>\n",
       "      <td>1</td>\n",
       "      <td>101466.0</td>\n",
       "      <td>3.353848e+09</td>\n",
       "      <td>57912.0</td>\n",
       "    </tr>\n",
       "  </tbody>\n",
       "</table>\n",
       "</div>"
      ],
      "text/plain": [
       "   group      mean      variance      std\n",
       "0      0   99738.0  3.295401e+09  57406.0\n",
       "1      1  101466.0  3.353848e+09  57912.0"
      ]
     },
     "execution_count": 29,
     "metadata": {},
     "output_type": "execute_result"
    }
   ],
   "source": [
    "charact.columns = ['group', 'mean', 'variance', 'std']\n",
    "charact"
   ]
  },
  {
   "cell_type": "markdown",
   "metadata": {},
   "source": [
    "Дисперсия и стандартное отклонение получаются большими, но между группами различаются не сильно, как и в среднем доходе."
   ]
  },
  {
   "cell_type": "code",
   "execution_count": 30,
   "metadata": {},
   "outputs": [],
   "source": [
    "#Доход клиентов, которые ушли\n",
    "salary_churn_1 = bank[bank['churn'] == 1]['estimated_salary']\n",
    "#Доход клиентов, которые остались\n",
    "salary_churn_0 = bank[bank['churn'] == 0]['estimated_salary']"
   ]
  },
  {
   "cell_type": "code",
   "execution_count": 31,
   "metadata": {},
   "outputs": [
    {
     "data": {
      "text/plain": [
       "Text(0.5, 1.0, 'доход группы, оставшихся с банком клиентов')"
      ]
     },
     "execution_count": 31,
     "metadata": {},
     "output_type": "execute_result"
    },
    {
     "data": {
      "image/png": "[encoded data removed]",
      "text/plain": [
       "<Figure size 1152x432 with 2 Axes>"
      ]
     },
     "metadata": {
      "needs_background": "light"
     },
     "output_type": "display_data"
    }
   ],
   "source": [
    "fig=plt.figure(figsize=(16,6))\n",
    "plt.suptitle('распределение дохода клиентов, которые ушли (отток) и , которые остались')\n",
    "fig = plt.subplot(121)\n",
    "sns.boxplot(y=salary_churn_1)\n",
    "plt.title('доход группы отток')\n",
    "plt.grid(True)\n",
    "plt.subplot(122)\n",
    "sns.boxplot(y= salary_churn_0, color='red')\n",
    "plt.grid(True)\n",
    "plt.title('доход группы, оставшихся с банком клиентов')"
   ]
  },
  {
   "cell_type": "markdown",
   "metadata": {},
   "source": [
    "Доход в группах распределены равномерно и не имеют выбросов, можем заметить, как квартили клиентов группы оттока чуть выше, чем у клиентов, которые остались с банком. "
   ]
  },
  {
   "cell_type": "code",
   "execution_count": 32,
   "metadata": {},
   "outputs": [
    {
     "data": {
      "text/plain": [
       "1.017318163327584"
      ]
     },
     "execution_count": 32,
     "metadata": {},
     "output_type": "execute_result"
    }
   ],
   "source": [
    "#Разница среднего дохода\n",
    "salary_churn_1.mean()/salary_churn_0.mean()"
   ]
  },
  {
   "cell_type": "markdown",
   "metadata": {},
   "source": [
    "Клиенты группы оттока получают на 1,73% больше, чем клиенты в группе оставшихся с банком. "
   ]
  },
  {
   "cell_type": "markdown",
   "metadata": {},
   "source": [
    "##### Проверим нашу гипотезу о том, что доход различен между теми клиентами, которые ушли и теми, которые остались.\n",
    "Чтобы понять, различаются ли средний доход клиентов, из разных групп, будем использовать критерий о равенстве средних двух совокупностей. \n",
    "\n",
    "Сформулируем гипотезы\n",
    "###### H0\n",
    "Средний доход между теми клиентами, которые ушли и теми, которые остались одинаков.\n",
    "###### H1\n",
    "Средний доход между теми клиентами, которые ушли и теми, которые остались различается."
   ]
  },
  {
   "cell_type": "code",
   "execution_count": 33,
   "metadata": {},
   "outputs": [
    {
     "name": "stdout",
     "output_type": "stream",
     "text": [
      "p-значение 0.22644042802223346\n",
      "Не получилось отвергнуть нулевую гипотезу\n"
     ]
    }
   ],
   "source": [
    "alpha = 0.05\n",
    "result = st.ttest_ind(salary_churn_1, salary_churn_0)\n",
    "print('p-значение',result.pvalue)\n",
    "if result.pvalue < alpha:\n",
    "    print(\"Отвергаем нулевую гипотезу\")\n",
    "else:\n",
    "    print(\"Не получилось отвергнуть нулевую гипотезу\") "
   ]
  },
  {
   "cell_type": "markdown",
   "metadata": {},
   "source": [
    "##### Вывод\n",
    "Полученное p-значение говорит нам о том, что мы можем подтвердить нашу нулевую гипотезу, и говорить о том, что средний доход из группы оттока в целом не отличается от среднего дохода группы клиентов, которые остаются в банке. "
   ]
  },
  {
   "cell_type": "markdown",
   "metadata": {},
   "source": [
    "#### <a id='ch4_2'>Гипотеза о различиях количества используемых продуктов между теми клиентами, которые ушли (отток) и теми, которые остались</a>"
   ]
  },
  {
   "cell_type": "markdown",
   "metadata": {},
   "source": [
    "Если клиент пользуется большим числом продуктов, то он более лоялен? Есть ли разница в числе используемых продуктов между клиентами, которые ушли (отток) и теми, которые остались?"
   ]
  },
  {
   "cell_type": "code",
   "execution_count": 34,
   "metadata": {},
   "outputs": [],
   "source": [
    "charact_2 = bank\\\n",
    ".groupby('churn')['products']\\\n",
    ".agg([np.mean, lambda var: np.var(var, ddof=1), lambda std: np.std(std, ddof=1)]).reset_index()"
   ]
  },
  {
   "cell_type": "code",
   "execution_count": 35,
   "metadata": {},
   "outputs": [
    {
     "data": {
      "text/html": [
       "<div>\n",
       "<style scoped>\n",
       "    .dataframe tbody tr th:only-of-type {\n",
       "        vertical-align: middle;\n",
       "    }\n",
       "\n",
       "    .dataframe tbody tr th {\n",
       "        vertical-align: top;\n",
       "    }\n",
       "\n",
       "    .dataframe thead th {\n",
       "        text-align: right;\n",
       "    }\n",
       "</style>\n",
       "<table border=\"1\" class=\"dataframe\">\n",
       "  <thead>\n",
       "    <tr style=\"text-align: right;\">\n",
       "      <th></th>\n",
       "      <th>group</th>\n",
       "      <th>mean</th>\n",
       "      <th>variance</th>\n",
       "      <th>std</th>\n",
       "    </tr>\n",
       "  </thead>\n",
       "  <tbody>\n",
       "    <tr>\n",
       "      <td>0</td>\n",
       "      <td>0</td>\n",
       "      <td>1.544267</td>\n",
       "      <td>0.259626</td>\n",
       "      <td>0.509536</td>\n",
       "    </tr>\n",
       "    <tr>\n",
       "      <td>1</td>\n",
       "      <td>1</td>\n",
       "      <td>1.475209</td>\n",
       "      <td>0.642435</td>\n",
       "      <td>0.801521</td>\n",
       "    </tr>\n",
       "  </tbody>\n",
       "</table>\n",
       "</div>"
      ],
      "text/plain": [
       "   group      mean  variance       std\n",
       "0      0  1.544267  0.259626  0.509536\n",
       "1      1  1.475209  0.642435  0.801521"
      ]
     },
     "execution_count": 35,
     "metadata": {},
     "output_type": "execute_result"
    }
   ],
   "source": [
    "charact_2.columns = ['group', 'mean', 'variance', 'std']\n",
    "charact_2"
   ]
  },
  {
   "cell_type": "markdown",
   "metadata": {},
   "source": [
    "Дисперсии в группах различаются, как и стандартное отклонение, группа оттока имеет большие значения в этих характеристиках. "
   ]
  },
  {
   "cell_type": "code",
   "execution_count": 36,
   "metadata": {},
   "outputs": [
    {
     "data": {
      "text/plain": [
       "<matplotlib.axes._subplots.AxesSubplot at 0x7fbf14439a90>"
      ]
     },
     "execution_count": 36,
     "metadata": {},
     "output_type": "execute_result"
    },
    {
     "data": {
      "image/png": "[encoded data removed]",
      "text/plain": [
       "<Figure size 864x432 with 1 Axes>"
      ]
     },
     "metadata": {
      "needs_background": "light"
     },
     "output_type": "display_data"
    }
   ],
   "source": [
    "plt.figure(figsize=(12,6))\n",
    "sns.histplot(bank, x=\"products\",  hue=\"churn\", kde=True)"
   ]
  },
  {
   "cell_type": "markdown",
   "metadata": {},
   "source": [
    "Данные имеют положительную скошенность. Группа оттока чаще пользуется только одним продуктом банка, а вот группы тех, кто остается пик значений на 2 продуктах."
   ]
  },
  {
   "cell_type": "code",
   "execution_count": 37,
   "metadata": {},
   "outputs": [],
   "source": [
    "products_1 = bank[(bank['churn'] == 1) & (bank['products'] < 4)]['products']\n",
    "products_0 = bank[bank['churn'] == 0]['products']"
   ]
  },
  {
   "cell_type": "code",
   "execution_count": 38,
   "metadata": {},
   "outputs": [
    {
     "data": {
      "text/plain": [
       "Text(0.5, 1.0, 'доход группы, оставшихся с банком клиентов')"
      ]
     },
     "execution_count": 38,
     "metadata": {},
     "output_type": "execute_result"
    },
    {
     "data": {
      "image/png": "[encoded data removed]",
      "text/plain": [
       "<Figure size 1152x432 with 2 Axes>"
      ]
     },
     "metadata": {
      "needs_background": "light"
     },
     "output_type": "display_data"
    }
   ],
   "source": [
    "fig=plt.figure(figsize=(16,6))\n",
    "plt.suptitle('распределение дохода клиентов, которые ушли (отток) и , которые остались')\n",
    "fig = plt.subplot(121)\n",
    "sns.boxplot(y=products_1)\n",
    "plt.title('доход группы отток')\n",
    "plt.grid(True)\n",
    "plt.subplot(122)\n",
    "sns.boxplot(y= products_0, color='red')\n",
    "plt.grid(True)\n",
    "plt.title('доход группы, оставшихся с банком клиентов')"
   ]
  },
  {
   "cell_type": "markdown",
   "metadata": {},
   "source": [
    "Группа оттока имела клиентов с 4 продуктами, диаграмма размаха показывает нам их как выброс. "
   ]
  },
  {
   "cell_type": "code",
   "execution_count": 39,
   "metadata": {},
   "outputs": [
    {
     "name": "stdout",
     "output_type": "stream",
     "text": [
      "[3. 3. 4.]\n"
     ]
    }
   ],
   "source": [
    "print(np.percentile(bank[bank['churn'] == 1]['products'], [90, 95, 99])) "
   ]
  },
  {
   "cell_type": "markdown",
   "metadata": {},
   "source": [
    "Не более 1% клиентов пользуются 4 продуктами. Для проверки гипотезы предлагаю удалить таких пользователей, что бы убрать влияние выброса на данные. "
   ]
  },
  {
   "cell_type": "markdown",
   "metadata": {},
   "source": [
    "Проверим нашу гипотезу о том, что количество используемых продуктов различен между теми клиентами, которые ушли и теми, которые остались.\n",
    "Чтобы понять, различаются ли среднее количество используемых продуктов, из разных групп, будем использовать критерий о равенстве средних двух совокупностей.\n",
    "\n",
    "Сформулируем гипотезы\n",
    "\n",
    "##### H0\n",
    "Средний количество используемых продуктов между теми клиентами, которые ушли и теми, которые остались одинаков.\n",
    "\n",
    "##### H1\n",
    "Средний количество используемых продуктов между теми клиентами, которые ушли и теми, которые остались различается."
   ]
  },
  {
   "cell_type": "code",
   "execution_count": 40,
   "metadata": {},
   "outputs": [
    {
     "name": "stdout",
     "output_type": "stream",
     "text": [
      "p-значение 4.7726578382295684e-26\n",
      "Отвергаем нулевую гипотезу\n"
     ]
    }
   ],
   "source": [
    "result = st.ttest_ind(products_0, products_1)\n",
    "print('p-значение',result.pvalue)\n",
    "if result.pvalue < alpha:\n",
    "    print(\"Отвергаем нулевую гипотезу\")\n",
    "else:\n",
    "    print(\"Не получилось отвергнуть нулевую гипотезу\") "
   ]
  },
  {
   "cell_type": "markdown",
   "metadata": {},
   "source": [
    "##### Вывод:\n",
    "После того как мы убрали выбросы, мы получили, что средние показатели в количестве используемых продуктов различается и мы можем утверждать, что клиенты, которые остаются в банке, в среднем пользуются большим количеством продуктов."
   ]
  },
  {
   "cell_type": "markdown",
   "metadata": {},
   "source": [
    "#### <a id=\"ch5\">Общий вывод</a>\n",
    "Анализируя данные оттока клиентов были выявлены характеристики отличающие клиента склонного к оттоку от клиента, который лоялен банку, был составлен портрет клиента, который склонен к оттоку, а так же проверены гипотезы о разнице средних показателей характеристик клиентов в доходе и количестве используемых продуктов.\n",
    "\n",
    "Доход между группами клиентов не имеет статистической значимой разницы, а вот количество используемых продуктов разница, несмотря на то, что клиенты из группы оттока пользовались и 3 и 4 продуктами, но в целом их средний показатель ниже, чем у группы клиентов, лояльных банку. Клиент из группы оттока чаще пользуется только 1 продуктом.\n",
    "\n",
    "\n",
    "##### Портрет клиента склонному к оттоку\n",
    "Средний клиент, который склонен к оттоку: в преобладающих случаях это женщина, в возрасте около 45 лет, это неактивный клиент, он так же, как и лояльный клиент банка, имеет 5 объектов собственности, но пользуется чаще 1 продуктом банка, и имеет кредитную карту. На счету у него, в среднем, 120 тысяч, а средняя зарплата около 100 тысяч, такой клиент имеет меньший балл кредитного скоринга, чем у лояльного клиента, а проживать такой клиент может в любом из 3-х городов.\n",
    "\n",
    "Необходимо удержать более возрастную категорию клиентов, направив разработку продукта именно на них.\n",
    "\n",
    "Так же рекомендуется провести кластеризацию клиентов используя алгоритмы обучения без учителя. Так мы сможем отобрать группы клиентов с схожими признаками, отсортировать их по доле оттока и увидеть наиболее влияющие признаки на отток."
   ]
  }
 ],
 "metadata": {
  "kernelspec": {
   "display_name": "Python 3",
   "language": "python",
   "name": "python3"
  },
  "language_info": {
   "codemirror_mode": {
    "name": "ipython",
    "version": 3
   },
   "file_extension": ".py",
   "mimetype": "text/x-python",
   "name": "python",
   "nbconvert_exporter": "python",
   "pygments_lexer": "ipython3",
   "version": "3.8.3"
  }
 },
 "nbformat": 4,
 "nbformat_minor": 4
}
