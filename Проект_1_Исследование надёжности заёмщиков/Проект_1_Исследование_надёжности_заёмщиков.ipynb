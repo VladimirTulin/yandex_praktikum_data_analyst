{
 "cells": [
  {
   "cell_type": "markdown",
   "metadata": {},
   "source": [
    "# Исследование надёжности заёмщиков"
   ]
  },
  {
   "cell_type": "markdown",
   "metadata": {},
   "source": [
    "### Цель: узнать влияет ли семейное положение и количество детей клиента на факт погашения кредита в срок. "
   ]
  },
  {
   "cell_type": "markdown",
   "metadata": {},
   "source": [
    "### Ответить на поставленные вопросы:\n",
    "    - Есть ли зависимость между наличием детей и возвратом кредита в срок?\n",
    "    - Есть ли зависимость между семейным положением и возвратом кредита в срок?\n",
    "    - Есть ли зависимость между уровнем дохода и возвратом кредита в срок?\n",
    "    - Как разные цели кредита влияют на его возврат в срок?"
   ]
  },
  {
   "cell_type": "markdown",
   "metadata": {},
   "source": [
    "_____"
   ]
  },
  {
   "cell_type": "code",
   "execution_count": 1,
   "metadata": {},
   "outputs": [],
   "source": [
    "import pandas as pd"
   ]
  },
  {
   "cell_type": "code",
   "execution_count": 2,
   "metadata": {},
   "outputs": [],
   "source": [
    "data = pd.read_csv('/datasets/data.csv')"
   ]
  },
  {
   "cell_type": "code",
   "execution_count": 3,
   "metadata": {},
   "outputs": [
    {
     "name": "stdout",
     "output_type": "stream",
     "text": [
      "<class 'pandas.core.frame.DataFrame'>\n",
      "RangeIndex: 21525 entries, 0 to 21524\n",
      "Data columns (total 12 columns):\n",
      "children            21525 non-null int64\n",
      "days_employed       19351 non-null float64\n",
      "dob_years           21525 non-null int64\n",
      "education           21525 non-null object\n",
      "education_id        21525 non-null int64\n",
      "family_status       21525 non-null object\n",
      "family_status_id    21525 non-null int64\n",
      "gender              21525 non-null object\n",
      "income_type         21525 non-null object\n",
      "debt                21525 non-null int64\n",
      "total_income        19351 non-null float64\n",
      "purpose             21525 non-null object\n",
      "dtypes: float64(2), int64(5), object(5)\n",
      "memory usage: 2.0+ MB\n"
     ]
    }
   ],
   "source": [
    "data.info()"
   ]
  },
  {
   "cell_type": "markdown",
   "metadata": {},
   "source": [
    "Выгрузка представляет из себя таблицу в 12 колонок и 21525 записями в ней. Имеются разные типы данных. У столбцов days_employed и total_income имеются пропущенные значения. "
   ]
  },
  {
   "cell_type": "markdown",
   "metadata": {},
   "source": [
    "### Заполним пропуски"
   ]
  },
  {
   "cell_type": "markdown",
   "metadata": {},
   "source": [
    "##### Заполним пропуски в доходах. "
   ]
  },
  {
   "cell_type": "code",
   "execution_count": 4,
   "metadata": {},
   "outputs": [
    {
     "name": "stdout",
     "output_type": "stream",
     "text": [
      "Средняя по доходам: 167422\n"
     ]
    }
   ],
   "source": [
    "ave_income = data['total_income'].mean()\n",
    "print('Средняя по доходам: {:.0f}'.format(ave_income))"
   ]
  },
  {
   "cell_type": "markdown",
   "metadata": {},
   "source": [
    "Так как люди работают на разных работах и на разных должностях, правильнее будет посмотреть среднюю в зависимости от занимаемой должности."
   ]
  },
  {
   "cell_type": "code",
   "execution_count": 5,
   "metadata": {},
   "outputs": [
    {
     "data": {
      "text/plain": [
       "income_type\n",
       "безработный        131339.751676\n",
       "в декрете           53829.130729\n",
       "госслужащий        170898.309923\n",
       "компаньон          202417.461462\n",
       "пенсионер          137127.465690\n",
       "предприниматель    499163.144947\n",
       "сотрудник          161380.260488\n",
       "студент             98201.625314\n",
       "Name: total_income, dtype: float64"
      ]
     },
     "execution_count": 5,
     "metadata": {},
     "output_type": "execute_result"
    }
   ],
   "source": [
    "data.groupby('income_type')['total_income'].mean()"
   ]
  },
  {
   "cell_type": "code",
   "execution_count": 6,
   "metadata": {},
   "outputs": [],
   "source": [
    "avr_fam_id_0 = 131339.751676\n",
    "avr_fam_id_1 = 53829.130729\n",
    "avr_fam_id_2 = 170898.309923\n",
    "avr_fam_id_3 = 202417.461462\n",
    "avr_fam_id_4 = 137127.465690\n",
    "avr_fam_id_5 = 499163.144947\n",
    "avr_fam_id_6 = 161380.260488\n",
    "avr_fam_id_7 = 98201.625314"
   ]
  },
  {
   "cell_type": "markdown",
   "metadata": {},
   "source": [
    "Заменим пропущенные значения на 0, нам это понадобится для заполнения их нашими средними."
   ]
  },
  {
   "cell_type": "code",
   "execution_count": 7,
   "metadata": {},
   "outputs": [],
   "source": [
    "data['total_income'] = data['total_income'].fillna(0)"
   ]
  },
  {
   "cell_type": "code",
   "execution_count": 8,
   "metadata": {},
   "outputs": [],
   "source": [
    "'''Функция возвращает среднюю в зависимости от должности, \n",
    "а так же используется фильтр по 0, что бы заполнить именно там, \n",
    "где встречается 0, нашей средней'''\n",
    "\n",
    "def return_mean_from_i_t_and_t_i (row):\n",
    "    f_i = row['income_type']\n",
    "    t_i = row['total_income']\n",
    "    if f_i == 'безработный':\n",
    "        if t_i == 0:\n",
    "            return avr_fam_id_0\n",
    "    if f_i == 'в декрете':\n",
    "        if t_i == 0:\n",
    "            return avr_fam_id_1\n",
    "    if f_i == 'госслужащий':\n",
    "        if t_i == 0:\n",
    "            return avr_fam_id_2\n",
    "    if f_i == 'компаньон':\n",
    "        if t_i == 0:\n",
    "            return avr_fam_id_3\n",
    "    if f_i == 'пенсионер':\n",
    "        if t_i == 0:\n",
    "            return avr_fam_id_4\n",
    "    if f_i == 'предприниматель':\n",
    "        if t_i == 0:\n",
    "            return avr_fam_id_5\n",
    "    if f_i == 'сотрудник':\n",
    "        if t_i == 0:\n",
    "            return avr_fam_id_6\n",
    "    if f_i == 'студент':\n",
    "        if t_i == 0:\n",
    "            return avr_fam_id_7\n",
    "    return 0"
   ]
  },
  {
   "cell_type": "code",
   "execution_count": 9,
   "metadata": {},
   "outputs": [],
   "source": [
    "data['avg'] = data.apply(return_mean_from_i_t_and_t_i, axis=1)"
   ]
  },
  {
   "cell_type": "markdown",
   "metadata": {},
   "source": [
    "На данном этапе мы получили столбец, где пропущенные значения из столбца total_income заменены на средний доход в зависимости от должности, остальные значения равны 0."
   ]
  },
  {
   "cell_type": "code",
   "execution_count": 10,
   "metadata": {},
   "outputs": [],
   "source": [
    "data['total_income'] = data['total_income'] + data['avg'].replace()"
   ]
  },
  {
   "cell_type": "code",
   "execution_count": 11,
   "metadata": {},
   "outputs": [],
   "source": [
    "data = data.drop(columns = 'avg')"
   ]
  },
  {
   "cell_type": "markdown",
   "metadata": {},
   "source": [
    "Просто сложив два столбца я заполнил уже 0 из total_income. Далее удаляем  avg столбец, он более не нужен."
   ]
  },
  {
   "cell_type": "markdown",
   "metadata": {},
   "source": [
    "_______"
   ]
  },
  {
   "cell_type": "markdown",
   "metadata": {},
   "source": [
    "##### Заполним пропуски в трудовом стаже. "
   ]
  },
  {
   "cell_type": "code",
   "execution_count": 12,
   "metadata": {},
   "outputs": [],
   "source": [
    "#data.head()"
   ]
  },
  {
   "cell_type": "markdown",
   "metadata": {},
   "source": [
    "Изучив несколько строк можно сразу заметить какие-то отрицательные значения и весьма большие числа. Посмотрим на них с точки зрения средней, медианы, максимальных и минимальных значений."
   ]
  },
  {
   "cell_type": "code",
   "execution_count": 13,
   "metadata": {},
   "outputs": [
    {
     "name": "stdout",
     "output_type": "stream",
     "text": [
      "Средняя в годах 172.73013057937914\n",
      "Медиана в годах -3.296902818549285\n",
      "Максимум в годах  1100.6997273296713\n",
      "Минимум в годах  -50.38068465909146\n"
     ]
    }
   ],
   "source": [
    "ave_data_mean = data['days_employed'].mean()\n",
    "ave_data_median = data['days_employed'].median()\n",
    "ave_data_max = data['days_employed'].max()\n",
    "ave_data_min = data['days_employed'].min()\n",
    "print('Средняя в годах',ave_data_mean/365)\n",
    "print(\"Медиана в годах\",ave_data_median/365)\n",
    "print(\"Максимум в годах \",ave_data_max/365)\n",
    "print(\"Минимум в годах \",ave_data_min/365)"
   ]
  },
  {
   "cell_type": "markdown",
   "metadata": {},
   "source": [
    "Да, безумно странные числа, к тому же переведенные в года. Максимум 1100 лет, быть может это Дункан Маклауд, но он нам тут ни к чему. Ни средняя ни медиана не под силу обычному человеку. Для начала уберем все отрицательные числа."
   ]
  },
  {
   "cell_type": "code",
   "execution_count": 14,
   "metadata": {},
   "outputs": [],
   "source": [
    "data['days_employed'] = data['days_employed'].abs()"
   ]
  },
  {
   "cell_type": "code",
   "execution_count": 15,
   "metadata": {},
   "outputs": [
    {
     "name": "stdout",
     "output_type": "stream",
     "text": [
      "Средняя в годах 183.32802440225305\n",
      "Медиана в годах 6.0115631969279315\n",
      "Максимум в годах  1100.6997273296713\n",
      "Минимум в годах  0.06614146093282515\n"
     ]
    }
   ],
   "source": [
    "ave_data_mean = data['days_employed'].mean()\n",
    "ave_data_median = data['days_employed'].median()\n",
    "ave_data_max = data['days_employed'].max()\n",
    "ave_data_min = data['days_employed'].min()\n",
    "print('Средняя в годах',ave_data_mean/365)\n",
    "print(\"Медиана в годах\",ave_data_median/365)\n",
    "print(\"Максимум в годах \",ave_data_max/365)\n",
    "print(\"Минимум в годах \",ave_data_min/365)"
   ]
  },
  {
   "cell_type": "markdown",
   "metadata": {},
   "source": [
    "Цифры стали приятнее, да, средняя все так же высока, но вот медиана довольно приличная. "
   ]
  },
  {
   "cell_type": "code",
   "execution_count": 16,
   "metadata": {},
   "outputs": [],
   "source": [
    "#data['days_employed'] = data['days_employed'].fillna(0)"
   ]
  },
  {
   "cell_type": "code",
   "execution_count": 17,
   "metadata": {},
   "outputs": [],
   "source": [
    "#data[data['days_employed']==0]['dob_years'].median()"
   ]
  },
  {
   "cell_type": "code",
   "execution_count": 18,
   "metadata": {},
   "outputs": [],
   "source": [
    "#a= data[data['days_employed']==0]['dob_years']"
   ]
  },
  {
   "cell_type": "code",
   "execution_count": 19,
   "metadata": {},
   "outputs": [],
   "source": [
    "#a.value_counts()"
   ]
  },
  {
   "cell_type": "code",
   "execution_count": 20,
   "metadata": {},
   "outputs": [],
   "source": [
    "#data[data['dob_years']==0]['dob_years'].count()"
   ]
  },
  {
   "cell_type": "code",
   "execution_count": 21,
   "metadata": {},
   "outputs": [],
   "source": [
    "#data[(data['days_employed']==0) & (data['dob_years'] != 0)]['dob_years'].median()"
   ]
  },
  {
   "cell_type": "code",
   "execution_count": 22,
   "metadata": {},
   "outputs": [],
   "source": [
    "#print(data[data['dob_years']==43]['days_employed'].median() /365)"
   ]
  },
  {
   "cell_type": "markdown",
   "metadata": {},
   "source": [
    "Выше я проделал некоторые манипуляции, что бы узнать возраст по медиане относительно незаполненных строк в столбце days_employed. Я узнал, что 101 человек не указал свой возраст, а точнее указал как 0 и 10 из них в нашей выборке. Исключив эти десять нулей, я получил средний возраст равный 43, но медиана по рабочим дням этого возраста всего 4 года. Так как возраст довольно разный, принято решение заменить пропущенные значения общей медианой ( 6 лет)"
   ]
  },
  {
   "cell_type": "code",
   "execution_count": 23,
   "metadata": {},
   "outputs": [],
   "source": [
    "data['days_employed'] = data['days_employed'].fillna(ave_data_median)"
   ]
  },
  {
   "cell_type": "code",
   "execution_count": 24,
   "metadata": {},
   "outputs": [],
   "source": [
    "#data.head()"
   ]
  },
  {
   "cell_type": "code",
   "execution_count": 25,
   "metadata": {},
   "outputs": [],
   "source": [
    "#data.info()"
   ]
  },
  {
   "cell_type": "markdown",
   "metadata": {},
   "source": [
    "____"
   ]
  },
  {
   "cell_type": "markdown",
   "metadata": {},
   "source": [
    "## Вывод\n",
    "Пропущенные значения имеются в столбцах days_employed и total_income, они имеют количественные переменные. Пропусков более 10% от данных, я не могу их просто удалить. Логически, если человек не имеет трудового стажа, то он не может подтвердить свой официальный доход. Но, для ответа на поставленный вопрос \"Есть ли зависимость между уровнем дохода и возвратом кредита в срок?\" я выбираю установить средний доход, отсортировав его в зависимости от типа занятости. Для пропущенных значений в столбце days_employed было принято решение установить медиану, так как имеются сильно разнящиеся значения, но для начала я привел все отрицательные значения в положительные. "
   ]
  },
  {
   "cell_type": "markdown",
   "metadata": {},
   "source": [
    "____"
   ]
  },
  {
   "cell_type": "markdown",
   "metadata": {},
   "source": [
    "##### Замена вещественного типа данных на целочисленный"
   ]
  },
  {
   "cell_type": "code",
   "execution_count": 26,
   "metadata": {},
   "outputs": [],
   "source": [
    "data['days_employed'] = data['days_employed'].astype('int')"
   ]
  },
  {
   "cell_type": "code",
   "execution_count": 27,
   "metadata": {},
   "outputs": [],
   "source": [
    "data['total_income'] = data['total_income'].astype('int')"
   ]
  },
  {
   "cell_type": "code",
   "execution_count": 28,
   "metadata": {},
   "outputs": [],
   "source": [
    "#data.head()"
   ]
  },
  {
   "cell_type": "code",
   "execution_count": 29,
   "metadata": {},
   "outputs": [],
   "source": [
    "#data.info()"
   ]
  },
  {
   "cell_type": "markdown",
   "metadata": {},
   "source": [
    "____"
   ]
  },
  {
   "cell_type": "markdown",
   "metadata": {},
   "source": [
    "## Вывод\n",
    "На целочислинный тип данных была переведены колонки days_employed и total_income. При переводе методом to_numeric() мы превратим строки в числовой тип, но он у нас и так уже числовой и вещественный. Необходимо использовать astype('int'), что бы сделать наши колонки целочисленными."
   ]
  },
  {
   "cell_type": "markdown",
   "metadata": {},
   "source": [
    "____"
   ]
  },
  {
   "cell_type": "markdown",
   "metadata": {},
   "source": [
    "##### Поиск и удаление дубликатов"
   ]
  },
  {
   "cell_type": "markdown",
   "metadata": {},
   "source": [
    "Посмотрим сколько дубликатов на данный момент"
   ]
  },
  {
   "cell_type": "code",
   "execution_count": 30,
   "metadata": {},
   "outputs": [
    {
     "data": {
      "text/plain": [
       "54"
      ]
     },
     "execution_count": 30,
     "metadata": {},
     "output_type": "execute_result"
    }
   ],
   "source": [
    "data.duplicated().sum()"
   ]
  },
  {
   "cell_type": "markdown",
   "metadata": {},
   "source": [
    "Удалим дубликаты"
   ]
  },
  {
   "cell_type": "code",
   "execution_count": 31,
   "metadata": {},
   "outputs": [],
   "source": [
    "data = data.drop_duplicates()"
   ]
  },
  {
   "cell_type": "markdown",
   "metadata": {},
   "source": [
    "В таблице был замечен разный регист в столбце education, убедимся в этом, а так-же поищем есть ли ещё"
   ]
  },
  {
   "cell_type": "code",
   "execution_count": 32,
   "metadata": {},
   "outputs": [
    {
     "data": {
      "text/plain": [
       "array(['высшее', 'среднее', 'Среднее', 'СРЕДНЕЕ', 'ВЫСШЕЕ',\n",
       "       'неоконченное высшее', 'начальное', 'Высшее',\n",
       "       'НЕОКОНЧЕННОЕ ВЫСШЕЕ', 'Неоконченное высшее', 'НАЧАЛЬНОЕ',\n",
       "       'Начальное', 'Ученая степень', 'УЧЕНАЯ СТЕПЕНЬ', 'ученая степень'],\n",
       "      dtype=object)"
      ]
     },
     "execution_count": 32,
     "metadata": {},
     "output_type": "execute_result"
    }
   ],
   "source": [
    "data['education'].unique()"
   ]
  },
  {
   "cell_type": "code",
   "execution_count": 33,
   "metadata": {},
   "outputs": [
    {
     "data": {
      "text/plain": [
       "array(['F', 'M', 'XNA'], dtype=object)"
      ]
     },
     "execution_count": 33,
     "metadata": {},
     "output_type": "execute_result"
    }
   ],
   "source": [
    "data['gender'].unique()"
   ]
  },
  {
   "cell_type": "code",
   "execution_count": 34,
   "metadata": {},
   "outputs": [
    {
     "data": {
      "text/plain": [
       "array(['сотрудник', 'пенсионер', 'компаньон', 'госслужащий',\n",
       "       'безработный', 'предприниматель', 'студент', 'в декрете'],\n",
       "      dtype=object)"
      ]
     },
     "execution_count": 34,
     "metadata": {},
     "output_type": "execute_result"
    }
   ],
   "source": [
    "data['income_type'].unique()"
   ]
  },
  {
   "cell_type": "code",
   "execution_count": 35,
   "metadata": {},
   "outputs": [
    {
     "data": {
      "text/plain": [
       "array(['покупка жилья', 'приобретение автомобиля',\n",
       "       'дополнительное образование', 'сыграть свадьбу',\n",
       "       'операции с жильем', 'образование', 'на проведение свадьбы',\n",
       "       'покупка жилья для семьи', 'покупка недвижимости',\n",
       "       'покупка коммерческой недвижимости', 'покупка жилой недвижимости',\n",
       "       'строительство собственной недвижимости', 'недвижимость',\n",
       "       'строительство недвижимости', 'на покупку подержанного автомобиля',\n",
       "       'на покупку своего автомобиля',\n",
       "       'операции с коммерческой недвижимостью',\n",
       "       'строительство жилой недвижимости', 'жилье',\n",
       "       'операции со своей недвижимостью', 'автомобили',\n",
       "       'заняться образованием', 'сделка с подержанным автомобилем',\n",
       "       'получение образования', 'автомобиль', 'свадьба',\n",
       "       'получение дополнительного образования', 'покупка своего жилья',\n",
       "       'операции с недвижимостью', 'получение высшего образования',\n",
       "       'свой автомобиль', 'сделка с автомобилем',\n",
       "       'профильное образование', 'высшее образование',\n",
       "       'покупка жилья для сдачи', 'на покупку автомобиля', 'ремонт жилью',\n",
       "       'заняться высшим образованием'], dtype=object)"
      ]
     },
     "execution_count": 35,
     "metadata": {},
     "output_type": "execute_result"
    }
   ],
   "source": [
    "data['purpose'].unique()"
   ]
  },
  {
   "cell_type": "code",
   "execution_count": 36,
   "metadata": {},
   "outputs": [
    {
     "data": {
      "text/plain": [
       "array(['женат / замужем', 'гражданский брак', 'вдовец / вдова',\n",
       "       'в разводе', 'Не женат / не замужем'], dtype=object)"
      ]
     },
     "execution_count": 36,
     "metadata": {},
     "output_type": "execute_result"
    }
   ],
   "source": [
    "data['family_status'].unique()"
   ]
  },
  {
   "cell_type": "markdown",
   "metadata": {},
   "source": [
    "Заметим, что в столбце education имеется разный регистр, приведем все к единому и проверим на дубликаты."
   ]
  },
  {
   "cell_type": "code",
   "execution_count": 37,
   "metadata": {},
   "outputs": [],
   "source": [
    "data['education'] = data['education'].str.lower()"
   ]
  },
  {
   "cell_type": "code",
   "execution_count": 38,
   "metadata": {},
   "outputs": [
    {
     "data": {
      "text/plain": [
       "array(['высшее', 'среднее', 'неоконченное высшее', 'начальное',\n",
       "       'ученая степень'], dtype=object)"
      ]
     },
     "execution_count": 38,
     "metadata": {},
     "output_type": "execute_result"
    }
   ],
   "source": [
    "data['education'].unique()"
   ]
  },
  {
   "cell_type": "code",
   "execution_count": 39,
   "metadata": {},
   "outputs": [
    {
     "data": {
      "text/plain": [
       "17"
      ]
     },
     "execution_count": 39,
     "metadata": {},
     "output_type": "execute_result"
    }
   ],
   "source": [
    "data.duplicated().sum()"
   ]
  },
  {
   "cell_type": "code",
   "execution_count": 40,
   "metadata": {},
   "outputs": [],
   "source": [
    "data = data.drop_duplicates()"
   ]
  },
  {
   "cell_type": "markdown",
   "metadata": {},
   "source": [
    "___"
   ]
  },
  {
   "cell_type": "markdown",
   "metadata": {},
   "source": [
    "# Вывод\n",
    "Использовав метод duplicated() мы обнаружили 54 полных дубликата. Проанализировав таблицу, можно заметить, что в столбце education имеется разный регистр, исправив это, мы обнаружили еще 17 дубликатов. Все дубликаты удаляем с помощью метода drop_duplicates(). Я выделяю несколько причин появления дубликатов. Во-первых - это техническая. Во-вторых - это, возможно, точно такой же человек.  "
   ]
  },
  {
   "cell_type": "markdown",
   "metadata": {},
   "source": [
    "_____"
   ]
  },
  {
   "cell_type": "markdown",
   "metadata": {},
   "source": [
    "##### Выделяем леммы в значениях столбца с целями получения кредита"
   ]
  },
  {
   "cell_type": "code",
   "execution_count": 41,
   "metadata": {},
   "outputs": [],
   "source": [
    "from pymystem3 import Mystem\n",
    "m = Mystem()"
   ]
  },
  {
   "cell_type": "code",
   "execution_count": 42,
   "metadata": {},
   "outputs": [],
   "source": [
    "my_list = data.loc[:,'purpose'].tolist()"
   ]
  },
  {
   "cell_type": "code",
   "execution_count": 43,
   "metadata": {},
   "outputs": [],
   "source": [
    "text = ','.join(my_list)"
   ]
  },
  {
   "cell_type": "code",
   "execution_count": 44,
   "metadata": {},
   "outputs": [],
   "source": [
    "lemmas =m.lemmatize(text)"
   ]
  },
  {
   "cell_type": "code",
   "execution_count": 45,
   "metadata": {},
   "outputs": [],
   "source": [
    "#print(lemmas)"
   ]
  },
  {
   "cell_type": "code",
   "execution_count": 46,
   "metadata": {},
   "outputs": [],
   "source": [
    "from collections import Counter"
   ]
  },
  {
   "cell_type": "code",
   "execution_count": 47,
   "metadata": {},
   "outputs": [
    {
     "name": "stdout",
     "output_type": "stream",
     "text": [
      "Counter({' ': 33570, ',': 21453, 'недвижимость': 6351, 'покупка': 5897, 'жилье': 4460, 'автомобиль': 4306, 'образование': 4013, 'с': 2918, 'операция': 2604, 'свадьба': 2324, 'свой': 2230, 'на': 2222, 'строительство': 1878, 'высокий': 1374, 'получение': 1314, 'коммерческий': 1311, 'для': 1289, 'жилой': 1230, 'сделка': 941, 'дополнительный': 906, 'заниматься': 904, 'подержать': 853, 'проведение': 768, 'сыграть': 765, 'сдача': 651, 'семья': 638, 'собственный': 635, 'со': 627, 'ремонт': 607, 'приобретение': 461, 'профильный': 436, 'подержанный': 111, '\\n': 1})\n"
     ]
    }
   ],
   "source": [
    "print(Counter(lemmas))"
   ]
  },
  {
   "cell_type": "markdown",
   "metadata": {},
   "source": [
    "___"
   ]
  },
  {
   "cell_type": "markdown",
   "metadata": {},
   "source": [
    "## Вывод\n",
    "Первым делом был получен список всех целей кредита, далее я его перевел в строку. Выделив леммы я их, так же, подсчитал."
   ]
  },
  {
   "cell_type": "markdown",
   "metadata": {},
   "source": [
    "____"
   ]
  },
  {
   "cell_type": "markdown",
   "metadata": {},
   "source": [
    "##### Категоризация данных и создание словарей"
   ]
  },
  {
   "cell_type": "code",
   "execution_count": 48,
   "metadata": {},
   "outputs": [],
   "source": [
    "#data.head()"
   ]
  },
  {
   "cell_type": "code",
   "execution_count": 49,
   "metadata": {},
   "outputs": [
    {
     "name": "stdout",
     "output_type": "stream",
     "text": [
      " 0     14091\n",
      " 1      4808\n",
      " 2      2052\n",
      " 3       330\n",
      " 20       76\n",
      "-1        47\n",
      " 4        41\n",
      " 5         9\n",
      "Name: children, dtype: int64\n"
     ]
    }
   ],
   "source": [
    "print(data['children'].value_counts())"
   ]
  },
  {
   "cell_type": "markdown",
   "metadata": {},
   "source": [
    "Дети либо есть, либо их нет, отрицательных не бывает(по количеству)! А вот 20 бывает, но это скорее редкость. Приведем данные в порядок."
   ]
  },
  {
   "cell_type": "code",
   "execution_count": 50,
   "metadata": {},
   "outputs": [],
   "source": [
    "data['children'] = data['children'].abs()"
   ]
  },
  {
   "cell_type": "code",
   "execution_count": 51,
   "metadata": {},
   "outputs": [],
   "source": [
    "data['children'] = data['children'].replace(20,2)"
   ]
  },
  {
   "cell_type": "code",
   "execution_count": 52,
   "metadata": {},
   "outputs": [],
   "source": [
    "''' Функция категоризирует семьи по количеству детей'''\n",
    "\n",
    "def family_category (data):\n",
    "    children = data['children']\n",
    "    if children == 0:\n",
    "        return 'бездетная'\n",
    "    if children == 1:\n",
    "        return 'однодетная'\n",
    "    if children == 2:\n",
    "        return 'малодетная'\n",
    "    return 'многодетная'"
   ]
  },
  {
   "cell_type": "code",
   "execution_count": 53,
   "metadata": {},
   "outputs": [],
   "source": [
    "data['family_category'] = data.apply(family_category, axis =1)"
   ]
  },
  {
   "cell_type": "code",
   "execution_count": 54,
   "metadata": {},
   "outputs": [
    {
     "name": "stdout",
     "output_type": "stream",
     "text": [
      "бездетная      14091\n",
      "однодетная      4855\n",
      "малодетная      2128\n",
      "многодетная      380\n",
      "Name: family_category, dtype: int64\n"
     ]
    }
   ],
   "source": [
    "print(data['family_category'].value_counts())"
   ]
  },
  {
   "cell_type": "code",
   "execution_count": 55,
   "metadata": {},
   "outputs": [],
   "source": [
    "def income_category (data):\n",
    "    income = data['total_income']\n",
    "    if income < 12130:\n",
    "        return 'ниже МРОТ'\n",
    "    if income < 25000:\n",
    "        return 'низкий'\n",
    "    if income < 120000:\n",
    "        return 'средний'\n",
    "    if income < 500000:\n",
    "        return 'выше среднего'\n",
    "    if income < 1000000:\n",
    "        return 'высокий'\n",
    "    return 'более_миллиона'"
   ]
  },
  {
   "cell_type": "code",
   "execution_count": 56,
   "metadata": {},
   "outputs": [],
   "source": [
    "#data['income_category'] = data.apply(income_category, axis=1)"
   ]
  },
  {
   "cell_type": "code",
   "execution_count": 57,
   "metadata": {
    "scrolled": true
   },
   "outputs": [],
   "source": [
    "#print(data['income_category'].value_counts())"
   ]
  },
  {
   "cell_type": "code",
   "execution_count": 58,
   "metadata": {},
   "outputs": [
    {
     "data": {
      "text/plain": [
       "count    2.145400e+04\n",
       "mean     1.674316e+05\n",
       "std      9.806060e+04\n",
       "min      2.066700e+04\n",
       "25%      1.076230e+05\n",
       "50%      1.518870e+05\n",
       "75%      2.024170e+05\n",
       "max      2.265604e+06\n",
       "Name: total_income, dtype: float64"
      ]
     },
     "execution_count": 58,
     "metadata": {},
     "output_type": "execute_result"
    }
   ],
   "source": [
    "data['total_income'].describe()"
   ]
  },
  {
   "cell_type": "code",
   "execution_count": 59,
   "metadata": {},
   "outputs": [
    {
     "data": {
      "text/plain": [
       "0.99    505511.63\n",
       "0.50    151887.00\n",
       "0.01     44967.08\n",
       "Name: total_income, dtype: float64"
      ]
     },
     "execution_count": 59,
     "metadata": {},
     "output_type": "execute_result"
    }
   ],
   "source": [
    "low_99 =0.99\n",
    "low_50 = 0.5\n",
    "low_1 = 0.01\n",
    "\n",
    "data['total_income'].quantile(q=[low_99,low_50,low_1])"
   ]
  },
  {
   "cell_type": "code",
   "execution_count": 60,
   "metadata": {},
   "outputs": [],
   "source": [
    "def income_category_quantile (data):\n",
    "    income = data['total_income']\n",
    "    if income < 45000:\n",
    "        return 'низкий'\n",
    "    if income < 152000:\n",
    "        return 'ниже среднего'\n",
    "    if income < 505000:\n",
    "        return 'выше среднего'\n",
    "    return 'высокий'"
   ]
  },
  {
   "cell_type": "code",
   "execution_count": 61,
   "metadata": {},
   "outputs": [],
   "source": [
    "data['income_category'] = data.apply(income_category_quantile, axis=1)"
   ]
  },
  {
   "cell_type": "code",
   "execution_count": 62,
   "metadata": {},
   "outputs": [
    {
     "name": "stdout",
     "output_type": "stream",
     "text": [
      "ниже среднего    10527\n",
      "выше среднего    10494\n",
      "низкий             217\n",
      "высокий            216\n",
      "Name: income_category, dtype: int64\n"
     ]
    }
   ],
   "source": [
    "print(data['income_category'].value_counts())"
   ]
  },
  {
   "cell_type": "markdown",
   "metadata": {},
   "source": [
    "Доход разбил на 4 группы квантилями. Проанализировав данные, немного оперевшись на реальность, я отделил 1 % группы людей с высокими и низкими доходами и установил явную середину. Так получились эти 4 группы."
   ]
  },
  {
   "cell_type": "markdown",
   "metadata": {},
   "source": [
    "___"
   ]
  },
  {
   "cell_type": "markdown",
   "metadata": {},
   "source": [
    "##### Категоризируем данные по типу сделки с использованием лемм"
   ]
  },
  {
   "cell_type": "code",
   "execution_count": 64,
   "metadata": {},
   "outputs": [],
   "source": [
    "data['purpose_lemma'] = data['purpose'].apply(m.lemmatize)"
   ]
  },
  {
   "cell_type": "code",
   "execution_count": 65,
   "metadata": {},
   "outputs": [],
   "source": [
    "def loan_purpose (data):\n",
    "    purpose = data['purpose_lemma']\n",
    "    if 'недвижимость' in purpose or 'жилье' in purpose:\n",
    "        return 'cделка с недвижимостью'\n",
    "    if 'автомобиль'in purpose:\n",
    "        return 'cделка с автомобилем'\n",
    "    if 'образование' in purpose:\n",
    "        return 'образование'\n",
    "    if 'свадьба' in purpose:\n",
    "        return 'свадьба'\n",
    "    if 'строительство' in purpose:\n",
    "        return 'строительство'\n",
    "    if 'ремонт' in purpose:\n",
    "        return 'ремонт'\n",
    "    return 'другое'"
   ]
  },
  {
   "cell_type": "code",
   "execution_count": 66,
   "metadata": {},
   "outputs": [],
   "source": [
    "data['loan_purpose'] = data.apply(loan_purpose, axis=1)"
   ]
  },
  {
   "cell_type": "code",
   "execution_count": 67,
   "metadata": {},
   "outputs": [
    {
     "name": "stdout",
     "output_type": "stream",
     "text": [
      "cделка с недвижимостью    10811\n",
      "cделка с автомобилем       4306\n",
      "образование                4013\n",
      "свадьба                    2324\n",
      "Name: loan_purpose, dtype: int64\n"
     ]
    }
   ],
   "source": [
    "print(data['loan_purpose'].value_counts())"
   ]
  },
  {
   "cell_type": "markdown",
   "metadata": {},
   "source": [
    "###### Создаем словари"
   ]
  },
  {
   "cell_type": "markdown",
   "metadata": {},
   "source": [
    "Словарь: \"Образование\""
   ]
  },
  {
   "cell_type": "code",
   "execution_count": 68,
   "metadata": {},
   "outputs": [],
   "source": [
    "data_education_dict = data[['education', 'education_id']]"
   ]
  },
  {
   "cell_type": "code",
   "execution_count": 69,
   "metadata": {},
   "outputs": [],
   "source": [
    "data_education_dict = data_education_dict.drop_duplicates().reset_index(drop = True)"
   ]
  },
  {
   "cell_type": "code",
   "execution_count": 70,
   "metadata": {},
   "outputs": [
    {
     "data": {
      "text/html": [
       "<div>\n",
       "<style scoped>\n",
       "    .dataframe tbody tr th:only-of-type {\n",
       "        vertical-align: middle;\n",
       "    }\n",
       "\n",
       "    .dataframe tbody tr th {\n",
       "        vertical-align: top;\n",
       "    }\n",
       "\n",
       "    .dataframe thead th {\n",
       "        text-align: right;\n",
       "    }\n",
       "</style>\n",
       "<table border=\"1\" class=\"dataframe\">\n",
       "  <thead>\n",
       "    <tr style=\"text-align: right;\">\n",
       "      <th></th>\n",
       "      <th>education</th>\n",
       "      <th>education_id</th>\n",
       "    </tr>\n",
       "  </thead>\n",
       "  <tbody>\n",
       "    <tr>\n",
       "      <td>0</td>\n",
       "      <td>высшее</td>\n",
       "      <td>0</td>\n",
       "    </tr>\n",
       "    <tr>\n",
       "      <td>1</td>\n",
       "      <td>среднее</td>\n",
       "      <td>1</td>\n",
       "    </tr>\n",
       "    <tr>\n",
       "      <td>2</td>\n",
       "      <td>неоконченное высшее</td>\n",
       "      <td>2</td>\n",
       "    </tr>\n",
       "    <tr>\n",
       "      <td>3</td>\n",
       "      <td>начальное</td>\n",
       "      <td>3</td>\n",
       "    </tr>\n",
       "    <tr>\n",
       "      <td>4</td>\n",
       "      <td>ученая степень</td>\n",
       "      <td>4</td>\n",
       "    </tr>\n",
       "  </tbody>\n",
       "</table>\n",
       "</div>"
      ],
      "text/plain": [
       "             education  education_id\n",
       "0               высшее             0\n",
       "1              среднее             1\n",
       "2  неоконченное высшее             2\n",
       "3            начальное             3\n",
       "4       ученая степень             4"
      ]
     },
     "execution_count": 70,
     "metadata": {},
     "output_type": "execute_result"
    }
   ],
   "source": [
    "data_education_dict"
   ]
  },
  {
   "cell_type": "markdown",
   "metadata": {},
   "source": [
    "Словарь: \"Семейное положение\""
   ]
  },
  {
   "cell_type": "code",
   "execution_count": 71,
   "metadata": {},
   "outputs": [],
   "source": [
    "data_family_status_dict = data[['family_status', 'family_status_id']]"
   ]
  },
  {
   "cell_type": "code",
   "execution_count": 72,
   "metadata": {},
   "outputs": [],
   "source": [
    "data_family_status_dict = data_family_status_dict.drop_duplicates().reset_index(drop=True)"
   ]
  },
  {
   "cell_type": "code",
   "execution_count": 73,
   "metadata": {},
   "outputs": [
    {
     "data": {
      "text/html": [
       "<div>\n",
       "<style scoped>\n",
       "    .dataframe tbody tr th:only-of-type {\n",
       "        vertical-align: middle;\n",
       "    }\n",
       "\n",
       "    .dataframe tbody tr th {\n",
       "        vertical-align: top;\n",
       "    }\n",
       "\n",
       "    .dataframe thead th {\n",
       "        text-align: right;\n",
       "    }\n",
       "</style>\n",
       "<table border=\"1\" class=\"dataframe\">\n",
       "  <thead>\n",
       "    <tr style=\"text-align: right;\">\n",
       "      <th></th>\n",
       "      <th>family_status</th>\n",
       "      <th>family_status_id</th>\n",
       "    </tr>\n",
       "  </thead>\n",
       "  <tbody>\n",
       "    <tr>\n",
       "      <td>0</td>\n",
       "      <td>женат / замужем</td>\n",
       "      <td>0</td>\n",
       "    </tr>\n",
       "    <tr>\n",
       "      <td>1</td>\n",
       "      <td>гражданский брак</td>\n",
       "      <td>1</td>\n",
       "    </tr>\n",
       "    <tr>\n",
       "      <td>2</td>\n",
       "      <td>вдовец / вдова</td>\n",
       "      <td>2</td>\n",
       "    </tr>\n",
       "    <tr>\n",
       "      <td>3</td>\n",
       "      <td>в разводе</td>\n",
       "      <td>3</td>\n",
       "    </tr>\n",
       "    <tr>\n",
       "      <td>4</td>\n",
       "      <td>Не женат / не замужем</td>\n",
       "      <td>4</td>\n",
       "    </tr>\n",
       "  </tbody>\n",
       "</table>\n",
       "</div>"
      ],
      "text/plain": [
       "           family_status  family_status_id\n",
       "0        женат / замужем                 0\n",
       "1       гражданский брак                 1\n",
       "2         вдовец / вдова                 2\n",
       "3              в разводе                 3\n",
       "4  Не женат / не замужем                 4"
      ]
     },
     "execution_count": 73,
     "metadata": {},
     "output_type": "execute_result"
    }
   ],
   "source": [
    "data_family_status_dict"
   ]
  },
  {
   "cell_type": "code",
   "execution_count": 74,
   "metadata": {},
   "outputs": [],
   "source": [
    "data = data.drop(columns=['education', 'family_status'])"
   ]
  },
  {
   "cell_type": "code",
   "execution_count": 75,
   "metadata": {},
   "outputs": [],
   "source": [
    "#data.head()"
   ]
  },
  {
   "cell_type": "markdown",
   "metadata": {},
   "source": [
    "___"
   ]
  },
  {
   "cell_type": "markdown",
   "metadata": {},
   "source": [
    "## Вывод\n",
    "В таблице уже многое категоризированно, к примеру, образование или статус семьи, но я решил выделить еще несколько категорий. Во-первых - это категоризация по количеству детей в семье (взята с какого то сайта :)). В этой категории были приведены данные в порядок. Использовалась логика, что не может быть -1 ребенок, скорее это ошибка записи. Далее хоть и бывают семьи с 20 детьми, но это, скорее, редкость, я это тоже учел как за ошибку и приравнял к 2. Следующая категория, это категории по уровню достатка, квантилями были выделенны 4 группы. В третей категории учитывалась цель кредита. По леммам четко можно проследить несколько повторяющихся целей.\n",
    "Дополнительно были выделенны 2 словаря \"Семейное положение\" и словарь \"Образование\", это позволяет удалить их текстовое наименование из таблицы, а оставть их уникальный id."
   ]
  },
  {
   "cell_type": "markdown",
   "metadata": {},
   "source": [
    "____"
   ]
  },
  {
   "cell_type": "code",
   "execution_count": 76,
   "metadata": {},
   "outputs": [],
   "source": [
    "#data.info()"
   ]
  },
  {
   "cell_type": "code",
   "execution_count": 77,
   "metadata": {},
   "outputs": [],
   "source": [
    "data_children = data.groupby(['family_category', 'debt']).agg({'debt': 'count'})"
   ]
  },
  {
   "cell_type": "code",
   "execution_count": 78,
   "metadata": {},
   "outputs": [
    {
     "name": "stdout",
     "output_type": "stream",
     "text": [
      "                       debt\n",
      "family_category debt       \n",
      "бездетная       0     13028\n",
      "                1      1063\n",
      "малодетная      0      1926\n",
      "                1       202\n",
      "многодетная     0       349\n",
      "                1        31\n",
      "однодетная      0      4410\n",
      "                1       445\n"
     ]
    }
   ],
   "source": [
    "print(data_children)"
   ]
  },
  {
   "cell_type": "code",
   "execution_count": 79,
   "metadata": {},
   "outputs": [
    {
     "name": "stdout",
     "output_type": "stream",
     "text": [
      "Общее количесво взятых кредитов у бездетных 14091\n",
      "Общее количесво взятых кредитов у однодетных семей 4855\n",
      "Общее количесво взятых кредитов у малодетных семей 2128\n",
      "Общее количесво взятых кредитов у многодетных семей 380\n"
     ]
    }
   ],
   "source": [
    "all_no_children_debt = data[data['family_category'] == 'бездетная']['debt'].count()\n",
    "all_one_children_debt = data[data['family_category'] == 'однодетная']['debt'].count()\n",
    "all_two_children_debt = data[data['family_category'] == 'малодетная']['debt'].count()\n",
    "all_lot_children_debt = data[data['family_category'] == 'многодетная']['debt'].count()\n",
    "print('Общее количесво взятых кредитов у бездетных {}'.format(all_no_children_debt))\n",
    "print('Общее количесво взятых кредитов у однодетных семей {}'.format(all_one_children_debt))\n",
    "print('Общее количесво взятых кредитов у малодетных семей {}'.format(all_two_children_debt))\n",
    "print('Общее количесво взятых кредитов у многодетных семей {}'.format(all_lot_children_debt))"
   ]
  },
  {
   "cell_type": "code",
   "execution_count": 80,
   "metadata": {},
   "outputs": [
    {
     "name": "stdout",
     "output_type": "stream",
     "text": [
      "Процент возврата кредита у бездетных 92.87%\n",
      "Процент возврата кредита у однодетных семей 91.04%\n",
      "Процент возврата кредита у малодетных семей 90.65%\n",
      "Процент возврата кредита у многодетных семей 91.84%\n"
     ]
    }
   ],
   "source": [
    "print('Процент возврата кредита у бездетных {:.2%}'.format(13086 / all_no_children_debt))\n",
    "print('Процент возврата кредита у однодетных семей {:.2%}'.format(4420 / all_one_children_debt))\n",
    "print('Процент возврата кредита у малодетных семей {:.2%}'.format(1929 / all_two_children_debt))\n",
    "print('Процент возврата кредита у многодетных семей {:.2%}'.format(349 / all_lot_children_debt))"
   ]
  },
  {
   "cell_type": "markdown",
   "metadata": {},
   "source": [
    "## Вывод\n",
    "Можно сказать, что чем меньше детей, тем чаще люди берут кредиты, и заметить, что процент возврата у людей не имеющих детей самый высокий. Интересно, что процент возврата в срок у многодетных семей выше, чем у семей с одним или двумя детьми. "
   ]
  },
  {
   "cell_type": "code",
   "execution_count": 81,
   "metadata": {},
   "outputs": [],
   "source": [
    "def status_debt (data):\n",
    "    debt = data['debt']\n",
    "    if debt == 1:\n",
    "        return 'невозврат в срок'\n",
    "    return 'возврат в срок'"
   ]
  },
  {
   "cell_type": "code",
   "execution_count": 82,
   "metadata": {},
   "outputs": [],
   "source": [
    "data['status_debt'] = data.apply(status_debt, axis=1)"
   ]
  },
  {
   "cell_type": "code",
   "execution_count": 89,
   "metadata": {},
   "outputs": [],
   "source": [
    "#data.head()"
   ]
  },
  {
   "cell_type": "code",
   "execution_count": 84,
   "metadata": {},
   "outputs": [],
   "source": [
    "data_children_family_status = data.groupby(['family_status_id','debt']).agg({'debt': 'count'})"
   ]
  },
  {
   "cell_type": "code",
   "execution_count": 85,
   "metadata": {},
   "outputs": [],
   "source": [
    "data_family_status = data.pivot_table(index=['family_status_id'], columns='status_debt', values='debt', aggfunc='count', fill_value=0, margins=True)"
   ]
  },
  {
   "cell_type": "code",
   "execution_count": 86,
   "metadata": {},
   "outputs": [],
   "source": [
    "#data_family_status"
   ]
  },
  {
   "cell_type": "code",
   "execution_count": 87,
   "metadata": {},
   "outputs": [
    {
     "name": "stdout",
     "output_type": "stream",
     "text": [
      "family_status_id\n",
      "0      92.454818\n",
      "1      90.652855\n",
      "2      93.430657\n",
      "3      92.887029\n",
      "4      90.249110\n",
      "All    91.884963\n",
      "dtype: float64\n"
     ]
    }
   ],
   "source": [
    "print(data_family_status['возврат в срок']/(data_family_status['невозврат в срок'] + data_family_status['возврат в срок'])*100)"
   ]
  },
  {
   "cell_type": "code",
   "execution_count": 90,
   "metadata": {},
   "outputs": [
    {
     "data": {
      "text/html": [
       "<div>\n",
       "<style scoped>\n",
       "    .dataframe tbody tr th:only-of-type {\n",
       "        vertical-align: middle;\n",
       "    }\n",
       "\n",
       "    .dataframe tbody tr th {\n",
       "        vertical-align: top;\n",
       "    }\n",
       "\n",
       "    .dataframe thead th {\n",
       "        text-align: right;\n",
       "    }\n",
       "</style>\n",
       "<table border=\"1\" class=\"dataframe\">\n",
       "  <thead>\n",
       "    <tr style=\"text-align: right;\">\n",
       "      <th></th>\n",
       "      <th>family_status</th>\n",
       "      <th>family_status_id</th>\n",
       "    </tr>\n",
       "  </thead>\n",
       "  <tbody>\n",
       "    <tr>\n",
       "      <td>0</td>\n",
       "      <td>женат / замужем</td>\n",
       "      <td>0</td>\n",
       "    </tr>\n",
       "    <tr>\n",
       "      <td>1</td>\n",
       "      <td>гражданский брак</td>\n",
       "      <td>1</td>\n",
       "    </tr>\n",
       "    <tr>\n",
       "      <td>2</td>\n",
       "      <td>вдовец / вдова</td>\n",
       "      <td>2</td>\n",
       "    </tr>\n",
       "    <tr>\n",
       "      <td>3</td>\n",
       "      <td>в разводе</td>\n",
       "      <td>3</td>\n",
       "    </tr>\n",
       "    <tr>\n",
       "      <td>4</td>\n",
       "      <td>Не женат / не замужем</td>\n",
       "      <td>4</td>\n",
       "    </tr>\n",
       "  </tbody>\n",
       "</table>\n",
       "</div>"
      ],
      "text/plain": [
       "           family_status  family_status_id\n",
       "0        женат / замужем                 0\n",
       "1       гражданский брак                 1\n",
       "2         вдовец / вдова                 2\n",
       "3              в разводе                 3\n",
       "4  Не женат / не замужем                 4"
      ]
     },
     "execution_count": 90,
     "metadata": {},
     "output_type": "execute_result"
    }
   ],
   "source": [
    "data_family_status_dict"
   ]
  },
  {
   "cell_type": "markdown",
   "metadata": {},
   "source": [
    "## Вывод\n",
    "Можем заметить, что чаще возвращают в срок кредиты люди, которые состоят в статусе вдовец / вдова, далее находящиеся в разводе и тройку замыкают клиенты состоящие в браке. Сохраниться ли этот процент, если разгруппировать по детям. "
   ]
  },
  {
   "cell_type": "code",
   "execution_count": 91,
   "metadata": {},
   "outputs": [],
   "source": [
    "data_children_family_status_pivot = data.pivot_table(index=['family_category', 'family_status_id'], columns='status_debt', values='debt', aggfunc='count', fill_value=0, margins=True)"
   ]
  },
  {
   "cell_type": "code",
   "execution_count": null,
   "metadata": {},
   "outputs": [],
   "source": [
    "#data_children_family_status_pivot.reset_index()"
   ]
  },
  {
   "cell_type": "code",
   "execution_count": 92,
   "metadata": {},
   "outputs": [
    {
     "name": "stdout",
     "output_type": "stream",
     "text": [
      "family_category  family_status_id\n",
      "бездетная        0                    93.090520\n",
      "                 1                    91.611722\n",
      "                 2                    93.742621\n",
      "                 3                    92.984694\n",
      "                 4                    90.716180\n",
      "малодетная       0                    90.644753\n",
      "                 1                    90.704225\n",
      "                 2                    87.500000\n",
      "                 3                    90.361446\n",
      "                 4                    88.095238\n",
      "многодетная      0                    92.982456\n",
      "                 1                    87.878788\n",
      "                 2                   100.000000\n",
      "                 3                    91.666667\n",
      "                 4                    80.000000\n",
      "однодетная       0                    91.777630\n",
      "                 1                    88.200000\n",
      "                 2                    91.358025\n",
      "                 3                    93.354430\n",
      "                 4                    88.546256\n",
      "All                                   91.884963\n",
      "dtype: float64\n"
     ]
    }
   ],
   "source": [
    "print(data_children_family_status_pivot['возврат в срок']/(data_children_family_status_pivot['невозврат в срок'] + data_children_family_status_pivot['возврат в срок'])*100)"
   ]
  },
  {
   "cell_type": "markdown",
   "metadata": {},
   "source": [
    "## Вывод\n",
    "В общем, тройка лидеров сохраняется. Но здесь мы можем заметить, как уменьшается процент возврата в срок кредитов у людей не состоящих в браке по отношению к количеству детей. Далее посмотрим, как влияет доход на возврат кредитов в срок."
   ]
  },
  {
   "cell_type": "code",
   "execution_count": 93,
   "metadata": {},
   "outputs": [],
   "source": [
    "data_income_pivot = data.pivot_table(index=['income_category'], columns='status_debt', values='debt', aggfunc='count', fill_value=0, margins=True)"
   ]
  },
  {
   "cell_type": "code",
   "execution_count": 94,
   "metadata": {},
   "outputs": [],
   "source": [
    "#data_income_pivot"
   ]
  },
  {
   "cell_type": "code",
   "execution_count": 95,
   "metadata": {},
   "outputs": [
    {
     "name": "stdout",
     "output_type": "stream",
     "text": [
      "income_category\n",
      "высокий          93.518519\n",
      "выше среднего    92.138365\n",
      "ниже среднего    91.564548\n",
      "низкий           93.548387\n",
      "All              91.884963\n",
      "dtype: float64\n"
     ]
    }
   ],
   "source": [
    "print(data_income_pivot['возврат в срок']/(data_income_pivot['невозврат в срок'] + data_income_pivot['возврат в срок'])*100)"
   ]
  },
  {
   "cell_type": "markdown",
   "metadata": {},
   "source": [
    "## Вывод\n",
    "\n",
    "Интересно, что сейчас хуже всех возвращают в срок люди, которые зарабатывают от 45 до 152 тысяч и далее по возрастающей. Было бы больше данных, к примеру суммы кредита, тогда можно было бы делать более точные выводы, а так можно только догадываться из-за чего такая просадка. И все же можно наблюдать рост % возврата в срок с повышением дохода."
   ]
  },
  {
   "cell_type": "code",
   "execution_count": 96,
   "metadata": {},
   "outputs": [],
   "source": [
    "data_purpose_pivot = data.pivot_table(index=[ 'loan_purpose'], columns='status_debt', values='debt', aggfunc='count', fill_value=0, margins=True)"
   ]
  },
  {
   "cell_type": "code",
   "execution_count": 97,
   "metadata": {},
   "outputs": [
    {
     "name": "stdout",
     "output_type": "stream",
     "text": [
      "loan_purpose\n",
      "cделка с автомобилем      90.640966\n",
      "cделка с недвижимостью    92.766627\n",
      "образование               90.779965\n",
      "свадьба                   91.996558\n",
      "All                       91.884963\n",
      "dtype: float64\n"
     ]
    }
   ],
   "source": [
    "print(data_purpose_pivot['возврат в срок']/(data_purpose_pivot['невозврат в срок'] + data_purpose_pivot['возврат в срок'])*100)"
   ]
  },
  {
   "cell_type": "markdown",
   "metadata": {},
   "source": [
    "## Вывод\n",
    "Лучше всего кредиты платятся в срок по недвижимости. Я думаю, это из-за того, что это долгосрочные ипотечные кредиты имеют хорошо рассчитанную по доходу клиента сумму, а так же, не каждый клиент подойдет. Далее идет свадьба, скорее это небольшие кредиты, и их уже возвращают пара молодоженов. А вот кредиты на образование и автомобили возвращаются хуже.  "
   ]
  },
  {
   "cell_type": "code",
   "execution_count": 100,
   "metadata": {},
   "outputs": [],
   "source": [
    "loan_purpose_pivot = data.pivot_table(index=['family_status_id','loan_purpose'], columns='status_debt', values='debt', aggfunc='count', fill_value=0, margins=True)"
   ]
  },
  {
   "cell_type": "code",
   "execution_count": 101,
   "metadata": {},
   "outputs": [],
   "source": [
    "#loan_purpose_pivot"
   ]
  },
  {
   "cell_type": "code",
   "execution_count": 102,
   "metadata": {},
   "outputs": [
    {
     "name": "stdout",
     "output_type": "stream",
     "text": [
      "family_status_id  loan_purpose          \n",
      "0                 cделка с автомобилем      91.630117\n",
      "                  cделка с недвижимостью    93.065068\n",
      "                  образование               91.676301\n",
      "1                 cделка с автомобилем      88.248848\n",
      "                  cделка с недвижимостью    90.798787\n",
      "                  образование               85.148515\n",
      "                  свадьба                   91.996558\n",
      "2                 cделка с автомобилем      90.825688\n",
      "                  cделка с недвижимостью    94.833948\n",
      "                  образование               92.462312\n",
      "3                 cделка с автомобилем      92.526690\n",
      "                  cделка с недвижимостью    93.047337\n",
      "                  образование               92.857143\n",
      "4                 cделка с автомобилем      87.127159\n",
      "                  cделка с недвижимостью    91.854637\n",
      "                  образование               89.254766\n",
      "All                                         91.884963\n",
      "dtype: float64\n"
     ]
    }
   ],
   "source": [
    "print(loan_purpose_pivot['возврат в срок']/(loan_purpose_pivot['невозврат в срок'] + loan_purpose_pivot['возврат в срок'])*100)"
   ]
  },
  {
   "cell_type": "markdown",
   "metadata": {},
   "source": [
    "В разрезе статуса семьи первенство сохраняется за недвижимостью. Кроме клиентов состоящих в гражданском браке, ее вытесняет желание скорее рассчитаться за недавнюю свадьбу. "
   ]
  },
  {
   "cell_type": "markdown",
   "metadata": {},
   "source": [
    "## Вывод\n",
    "\n",
    "Были проанализированы данные, эти данные прошли предобработку, а именно, были удалены дубликаты и заполнены пропуски, данные были категоризированны и подготовлены к ответам на вопросы исследования. \n",
    "\n",
    "Исследование показало:\n",
    "\n",
    "Если клиент не имеет детей, то в 92.87% кредит возвращается в срок.\n",
    "Клиент, который находится в браке и платит по кредиту в срок в 92.45%, если в разводе то 92.89% и, если находится в статусе вдовец\\вдова, то 93.43% соответственно.\n",
    "Просматаривается прямая зависимость, чем больше уровень дохода, тем выше процент платежа в срок по кредиту. Но, есть и уникальный всплеск, для людей зарабатывающих менее 45 тысяч рублей в месяц, процент платежа в срок самый высокий, это может быть связанно с суммой кредита. \n",
    "А самой платежеспособной целью является недвижимость.\n",
    "\n",
    "Был выявлен самый благоприятный клиент для банка. \n",
    "##### Это человек, который когда-либо состоял или состоит в браке, не имеет детей, доход его свыше 152 тысяч рублей, а целью его кредита является недвижимость.   "
   ]
  },
  {
   "cell_type": "code",
   "execution_count": null,
   "metadata": {},
   "outputs": [],
   "source": []
  }
 ],
 "metadata": {
  "kernelspec": {
   "display_name": "Python 3",
   "language": "python",
   "name": "python3"
  },
  "language_info": {
   "codemirror_mode": {
    "name": "ipython",
    "version": 3
   },
   "file_extension": ".py",
   "mimetype": "text/x-python",
   "name": "python",
   "nbconvert_exporter": "python",
   "pygments_lexer": "ipython3",
   "version": "3.7.6"
  }
 },
 "nbformat": 4,
 "nbformat_minor": 4
}
